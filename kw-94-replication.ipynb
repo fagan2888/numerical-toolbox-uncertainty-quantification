{
 "cells": [
  {
   "cell_type": "markdown",
   "metadata": {},
   "source": [
    "*Note that most of the code cells are hidden from this notebook for a better reading flow. Check out the notebook in the documentation folder in the Github repository for more details.*\n",
    "\n",
    "# Replicating Keane and Wolpin (1994)\n",
    "\n",
    "Keane and Wolpin (1994) and the previously published working paper Keane and Wolpin (1994b) generate three different Monte Carlo samples. This notebook replicates some of their results as well as giving other insights into the model.\n",
    "\n",
    "## Returns to experience\n",
    "\n",
    "We first plot the returns to experience while holding education constant at the initial ten years. Occupation B is more skill intensive in the sense that own experience has higher return than is the case for Occupation A. There is some general skill learned in Occupation A which is transferable to Occupation B. However, work experience is occupation-specific in Occupation B."
   ]
  },
  {
   "cell_type": "code",
   "execution_count": 1,
   "metadata": {
    "nbsphinx": "hidden"
   },
   "outputs": [],
   "source": [
    "%matplotlib agg\n",
    "import matplotlib.pyplot as plt\n",
    "import numpy as np\n",
    "import pandas as pd\n",
    "import respy as rp\n",
    "import warnings\n",
    "\n",
    "from mpl_toolkits.mplot3d import Axes3D"
   ]
  },
  {
   "cell_type": "code",
   "execution_count": 2,
   "metadata": {
    "nbsphinx": "hidden"
   },
   "outputs": [],
   "source": [
    "plt.style.use(\"notebook_material/respy_static/respy.mplstyle\")"
   ]
  },
  {
   "cell_type": "markdown",
   "metadata": {},
   "source": [
    "## Effect of college tuition subsidy\n",
    "\n",
    "This section replicates Table 6 in Keane and Wolpin (1994) which studies the effect of different amounts of tuition subsidies. First, we are going to show the effect of the tuition subsidy on each of the parametrizations for a sample of 1,000 simulated individuals. After that, Table 6 is replicated where the policy effect is measured as the average difference in experience for 40 samples with 100 invididuals with and without the tutition subsidy. The authors apply a 500 USD tuition subsidy on the first parametrization, 1000 USD on the second and 2000 USD on the third parametrization.\n",
    "\n",
    "The following figures show the impact of the tuition subsidies for each of the parametrizations next to each other."
   ]
  },
  {
   "cell_type": "code",
   "execution_count": 3,
   "metadata": {},
   "outputs": [],
   "source": [
    "# Build simulate function as only parameters change, it can be reused.\n",
    "params, options = rp.get_example_model(\"kw_94_one\", with_data=False)\n",
    "options[\"simulation_agents\"] = 4000"
   ]
  },
  {
   "cell_type": "code",
   "execution_count": 4,
   "metadata": {},
   "outputs": [],
   "source": [
    "simulate = rp.get_simulate_func(params, options)\n",
    "\n",
    "models = np.repeat([\"one\"], 2)\n",
    "tuition_subsidies = [0, 500]\n",
    "\n",
    "data_frames = []\n",
    "\n",
    "for model, tuition_subsidy in zip(models, tuition_subsidies):\n",
    "    params, _ = rp.get_example_model(f\"kw_94_{model}\", with_data=False)\n",
    "    params.loc[(\"nonpec_edu\", \"hs_graduate\"), \"value\"] += tuition_subsidy\n",
    "    data_frames.append(simulate(params))"
   ]
  },
  {
   "cell_type": "code",
   "execution_count": 5,
   "metadata": {},
   "outputs": [],
   "source": [
    "for df in data_frames:\n",
    "    df[\"Bootstrap_Sample\"] = pd.cut(df.Identifier, bins=40, labels=np.arange(1, 41))"
   ]
  },
  {
   "cell_type": "code",
   "execution_count": 6,
   "metadata": {},
   "outputs": [],
   "source": [
    "df_wo_ts = data_frames[0]\n",
    "df_w_ts = data_frames[1]\n",
    "\n",
    "# Split the sample in 40 parts.\n",
    "df_wo_ts[\"Bootstrap_Sample\"] = pd.cut(df_wo_ts.Identifier, bins=40, labels=np.arange(1, 41))\n",
    "df_w_ts[\"Bootstrap_Sample\"] = pd.cut(df_w_ts.Identifier, bins=40, labels=np.arange(1, 41))\n",
    "\n",
    "mean_exp_wo_ts = df_wo_ts.loc[df_wo_ts.Period.eq(39), [\"Bootstrap_Sample\", \"Experience_Edu\"]].groupby(\"Bootstrap_Sample\").mean()\n",
    "mean_exp_w_ts = df_w_ts.loc[df_w_ts.Period.eq(39), [\"Bootstrap_Sample\", \"Experience_Edu\"]].groupby(\"Bootstrap_Sample\").mean()\n",
    "\n",
    "diff = mean_exp_w_ts - mean_exp_wo_ts\n",
    "diff = diff.reset_index().set_index([\"Bootstrap_Sample\"]).stack()"
   ]
  },
  {
   "cell_type": "code",
   "execution_count": 7,
   "metadata": {},
   "outputs": [
    {
     "data": {
      "text/plain": [
       "1.5417500000000004"
      ]
     },
     "execution_count": 7,
     "metadata": {},
     "output_type": "execute_result"
    }
   ],
   "source": [
    "qoi = diff.mean()\n",
    "qoi"
   ]
  },
  {
   "cell_type": "markdown",
   "metadata": {},
   "source": [
    "## References\n",
    "\n",
    "> Keane, M. P. and  Wolpin, K. I. (1994). [The Solution and Estimation of Discrete Choice Dynamic Programming Models by Simulation and Interpolation: Monte Carlo Evidence](https://doi.org/10.2307/2109768). *The Review of Economics and Statistics*, 76(4): 648-672.\n",
    "\n",
    "> Keane, M. P. and  Wolpin, K. I. (1994b). [The Solution and Estimation of Discrete Choice Dynamic Programming Models by Simulation and Interpolation: Monte Carlo Evidence](https://www.minneapolisfed.org/research/staff-reports/the-solution-and-estimation-of-discrete-choice-dynamic-programming-models-by-simulation-and-interpolation-monte-carlo-evidence). *Federal Reserve Bank of Minneapolis*, No. 181."
   ]
  }
 ],
 "metadata": {
  "kernelspec": {
   "display_name": "Python 3",
   "language": "python",
   "name": "python3"
  },
  "language_info": {
   "codemirror_mode": {
    "name": "ipython",
    "version": 3
   },
   "file_extension": ".py",
   "mimetype": "text/x-python",
   "name": "python",
   "nbconvert_exporter": "python",
   "pygments_lexer": "ipython3",
   "version": "3.6.9"
  }
 },
 "nbformat": 4,
 "nbformat_minor": 4
}
