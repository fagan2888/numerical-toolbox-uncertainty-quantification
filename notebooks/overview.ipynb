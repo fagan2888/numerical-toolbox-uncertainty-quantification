{
 "cells": [
  {
   "cell_type": "markdown",
   "metadata": {},
   "source": [
    "# Uncertainty quantification for economists"
   ]
  },
  {
   "cell_type": "markdown",
   "metadata": {},
   "source": [
    "Dynamic economic models formalize the objectives, trade-offs, and uncertainties faced by individuals when making optimal decisions. They are often calibrated to fit observed individual behaviors and subsequently used to determine the quantitative importance of competing economic mechanisms and to assess the effects of alternative public policies (Wolpin, 2013). However, it is current practice to draw conclusions from those models without any consideration for the uncertainties in their parameterization.\n",
    "\n",
    "## Overview\n",
    "\n",
    "We choose the seminal model of human capital investment by Keane and Wolpin (1997) as our computational sandbox to explore the usefulness of uncertainty quantification for economists. The model is very well known within the economics profession, a research code is available in our group, and the original data is available online. The model is set up as a finite-horizon discrete Markov decision process (Puterman, 1994) and solved by a straightforward backward induction algorithm (Bellman, 1957). Each year, individuals decide whether to spend another year in school or work in the labor market. Schooling is costly due to its direct cost (e.g., tuition) and the opportunity costs of forgone wages. The model is calibrated to match the observed schooling decisions of a cohort of individuals in the United States and used to assess the effect of a $\\$ 500$ tuition subsidy. Using the calibrated parameterization of the model, the authors report an increase of about $1.5$ years of education. However, they do not account for the uncertainty in the calibration step.\n",
    "\n",
    "We reproduce their results and assess the uncertainty in their prediction. The authors calibrate their model using maximum likelihood techniques. We thus draw 10,000 samples from the asymptotic distribution of the estimated parameters and re-evaluate the tuition subsidy. The figure below shows the resulting distribution of effects. It is clear from this picture that there is considerable uncertainty in the effect of the tuition subsidy. For example, it is lower than one year in about 15% of cases and above two years in less than 1%."
   ]
  },
  {
   "cell_type": "markdown",
   "metadata": {},
   "source": [
    "<img src=\"fig-quantity-of-interest.png\" alt=\"Drawing\" style=\"width: 500px;\"/>"
   ]
  },
  {
   "cell_type": "markdown",
   "metadata": {},
   "source": [
    "## References\n",
    "\n",
    "Bellman, R. E. (1957). [Dynamic programming](https://press.princeton.edu/titles/9234.html). Princeton University Press, Princeton, NJ.\n",
    "\n",
    "Keane, M. P. and Wolpin, K. I. (1997).  [The career decisions of young men](https://www.jstor.org/stable/10.1086/262080). Journal of Political Economy, 105(3): pp. 473-522.\n",
    "\n",
    "Smith, R. C. (2013). [Uncertainty quantification: Theory, implementation, and applications](https://my.siam.org/Store/Product/viewproduct/?ProductId=24973024). SIAM. Philadelphia, PA.\n",
    "\n",
    "Puterman, M. L. (1994). [Markov decision processes: Discrete stochastic dynamic programming](https://dl.acm.org/citation.cfm?id=528623). John Wiley & Sons, Inc., New York, NY.\n",
    "\n",
    "Wolpin, K. I. (2013). [The limits of inference without theory](https://mitpress.mit.edu/books/limits-inference-without-theory). MIT Press, Cambridge, MA."
   ]
  }
 ],
 "metadata": {
  "kernelspec": {
   "display_name": "Python 3",
   "language": "python",
   "name": "python3"
  },
  "language_info": {
   "codemirror_mode": {
    "name": "ipython",
    "version": 3
   },
   "file_extension": ".py",
   "mimetype": "text/x-python",
   "name": "python",
   "nbconvert_exporter": "python",
   "pygments_lexer": "ipython3",
   "version": "3.6.9"
  }
 },
 "nbformat": 4,
 "nbformat_minor": 4
}
