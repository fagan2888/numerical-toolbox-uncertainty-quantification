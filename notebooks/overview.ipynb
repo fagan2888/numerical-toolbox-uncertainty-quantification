{
 "cells": [
  {
   "cell_type": "markdown",
   "metadata": {},
   "source": [
    "# Uncertainty quantification for economists"
   ]
  },
  {
   "cell_type": "markdown",
   "metadata": {},
   "source": [
    "Dynamic economic models formalize the objectives, trade-offs, and uncertainties faced by individuals when making optimal decisions. They are often calibrated to fit observed individual behaviors and subsequently used to determine the quantitiative importance of competing economic mechanisms and to assess the effects of alternative public policies (Wolpin, 2013). However, it is current practice to draw insights from those models without any consideration for the uncertainties in the underlying their parameterization.\n",
    "\n",
    "## Overview\n",
    "\n",
    "We choose the seminal model of human capital investment by Keane and Wolpin (1997) as our computational sandbox to explore the usefulness of uncertainty quantification for economists. The model is very well known within the economics profession, a research code is available in our group, and the orignal data is available online. The model is set up as a finite-horizon discrete Markov decision processes (Puterman, 1994) and solved by a straightforward backward induction algorithm (Bellman, 1957). Each year, individuals decide whether to spend another year in school or work in the labor market. Schooling is costly due to its direct cost (e.g tuition) and the opportunity costs of not working. The model is calibrated to match the observed schooling decisions of a cohort of individuals in the United States and used to assess the effect of, for example, a $\\$ 2,000$ tuition subsidy. Using the calibrated paramterization of the model, the authors report an increase from 11 years to 12 years of average schooling. However, they do not account for the uncertainty in the calibration step.\n",
    "\n",
    "We reproduce their results and assess the uncertainty in their prediction. As the calibrate their model using maximum likelihood techniques, we simply repeatedly draw from the asymptotic distribution of the estimated paramters. The figure below shows the resulting distrtibution for effect of the tuitions subsidy. It is clear from this picture that there is considerable uncertainty in the effect of the tution subsidy. The effect might even be negative in about 20\\% of the cases. "
   ]
  },
  {
   "cell_type": "markdown",
   "metadata": {},
   "source": [
    "![](fig-quantity-of-interest.png)"
   ]
  },
  {
   "cell_type": "markdown",
   "metadata": {},
   "source": [
    "## Details"
   ]
  },
  {
   "cell_type": "code",
   "execution_count": 1,
   "metadata": {},
   "outputs": [],
   "source": [
    "NUM_DRAWS = 10000"
   ]
  },
  {
   "cell_type": "markdown",
   "metadata": {},
   "source": [
    "## References\n",
    "\n",
    "Wolpin, K. I. (2013). [The Limits of Inference without Theory](https://mitpress.mit.edu/books/limits-inference-without-theory). MIT Press, Cambridge, MA."
   ]
  },
  {
   "cell_type": "code",
   "execution_count": null,
   "metadata": {},
   "outputs": [],
   "source": []
  }
 ],
 "metadata": {
  "kernelspec": {
   "display_name": "Python 3",
   "language": "python",
   "name": "python3"
  },
  "language_info": {
   "codemirror_mode": {
    "name": "ipython",
    "version": 3
   },
   "file_extension": ".py",
   "mimetype": "text/x-python",
   "name": "python",
   "nbconvert_exporter": "python",
   "pygments_lexer": "ipython3",
   "version": "3.6.9"
  }
 },
 "nbformat": 4,
 "nbformat_minor": 4
}
