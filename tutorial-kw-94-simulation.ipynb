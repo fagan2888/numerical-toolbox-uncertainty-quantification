{
 "cells": [
  {
   "cell_type": "markdown",
   "metadata": {},
   "source": [
    "# Tutorial - Keane and Wolpin (1994) - Simulation\n",
    "\n",
    "Keane and Wolpin (1994) generate three different Monte Carlo samples. We study their first parameterization in more detail now. We label the two occupations as Occupation A and Occupation B.\n",
    "\n",
    "We first plot the returns to experience while holding education constant at the initial ten years. Occupation B is more skill intensive in the sense that own experience has higher return than is the case for Occupation A. There is some general skill learned in Occupation A which is transferable to Occupation B. However, work experience is occupation-specific in Occupation B."
   ]
  },
  {
   "cell_type": "code",
   "execution_count": 3,
   "metadata": {
    "nbsphinx": "hidden"
   },
   "outputs": [],
   "source": [
    "%matplotlib agg\n",
    "import matplotlib.pyplot as plt\n",
    "import numpy as np\n",
    "import warnings\n",
    "\n",
    "from mpl_toolkits.mplot3d import Axes3D\n",
    "\n",
    "import respy as rp\n",
    "\n",
    "warnings.filterwarnings(\"ignore\")"
   ]
  },
  {
   "cell_type": "code",
   "execution_count": 5,
   "metadata": {
    "nbsphinx": "hidden"
   },
   "outputs": [],
   "source": [
    "plt.style.use(\"respy_static/respy.mplstyle\")"
   ]
  },
  {
   "cell_type": "code",
   "execution_count": 6,
   "metadata": {
    "nbsphinx": "hidden"
   },
   "outputs": [
    {
     "ename": "AssertionError",
     "evalue": "",
     "output_type": "error",
     "traceback": [
      "\u001b[1;31m---------------------------------------------------------------------------\u001b[0m",
      "\u001b[1;31mAssertionError\u001b[0m                            Traceback (most recent call last)",
      "\u001b[1;32m<ipython-input-6-8277a2e6e056>\u001b[0m in \u001b[0;36m<module>\u001b[1;34m\u001b[0m\n\u001b[0;32m      1\u001b[0m \u001b[1;31m# Load example model and convert parameter and options to model attributes.\u001b[0m\u001b[1;33m\u001b[0m\u001b[1;33m\u001b[0m\u001b[1;33m\u001b[0m\u001b[0m\n\u001b[1;32m----> 2\u001b[1;33m \u001b[0mparams\u001b[0m\u001b[1;33m,\u001b[0m \u001b[0moptions\u001b[0m\u001b[1;33m,\u001b[0m \u001b[0m_\u001b[0m \u001b[1;33m=\u001b[0m \u001b[0mrp\u001b[0m\u001b[1;33m.\u001b[0m\u001b[0mget_example_model\u001b[0m\u001b[1;33m(\u001b[0m\u001b[1;34m\"kw_94_one\"\u001b[0m\u001b[1;33m)\u001b[0m\u001b[1;33m\u001b[0m\u001b[1;33m\u001b[0m\u001b[0m\n\u001b[0m",
      "\u001b[1;32m~\\AppData\\Local\\conda\\conda\\envs\\uq\\lib\\site-packages\\respy\\__init__.py\u001b[0m in \u001b[0;36mget_example_model\u001b[1;34m(model)\u001b[0m\n\u001b[0;32m     43\u001b[0m         ]\n\u001b[0;32m     44\u001b[0m     ]\n\u001b[1;32m---> 45\u001b[1;33m     \u001b[1;32massert\u001b[0m \u001b[0mmodel\u001b[0m \u001b[1;32min\u001b[0m \u001b[0mpossible_models\u001b[0m\u001b[1;33m\u001b[0m\u001b[1;33m\u001b[0m\u001b[0m\n\u001b[0m\u001b[0;32m     46\u001b[0m \u001b[1;33m\u001b[0m\u001b[0m\n\u001b[0;32m     47\u001b[0m     \u001b[0moptions_spec\u001b[0m \u001b[1;33m=\u001b[0m \u001b[0mjson\u001b[0m\u001b[1;33m.\u001b[0m\u001b[0mloads\u001b[0m\u001b[1;33m(\u001b[0m\u001b[1;33m(\u001b[0m\u001b[0mTEST_RESOURCES_DIR\u001b[0m \u001b[1;33m/\u001b[0m \u001b[1;34mf\"{model}.json\"\u001b[0m\u001b[1;33m)\u001b[0m\u001b[1;33m.\u001b[0m\u001b[0mread_text\u001b[0m\u001b[1;33m(\u001b[0m\u001b[1;33m)\u001b[0m\u001b[1;33m)\u001b[0m\u001b[1;33m\u001b[0m\u001b[1;33m\u001b[0m\u001b[0m\n",
      "\u001b[1;31mAssertionError\u001b[0m: "
     ]
    }
   ],
   "source": [
    "# Load example model and convert parameter and options to model attributes.\n",
    "params, options, _ = rp.get_example_model(\"kw_94_one\")"
   ]
  },
  {
   "cell_type": "code",
   "execution_count": null,
   "metadata": {
    "nbsphinx": "hidden"
   },
   "outputs": [],
   "source": [
    "ret_schooling_occ_a = params.loc[(\"wage_a\", \"exp_edu\"), \"para\"][0]\n",
    "ret_schooling_occ_b = params.loc[(\"wage_b\", \"exp_edu\"), \"para\"][0]\n",
    "\n",
    "ret_exp_a_occ_a = params.loc[(\"wage_a\", \"exp_a\"), \"para\"][0]\n",
    "ret_exp_a_sq_occ_a = params.loc[(\"wage_a\", \"exp_a_square\"), \"para\"][0]\n",
    "ret_exp_b_occ_a = params.loc[(\"wage_a\", \"exp_b\"), \"para\"][0]\n",
    "ret_exp_b_sq_occ_a = params.loc[(\"wage_a\", \"exp_b_square\"), \"para\"][0]\n",
    "skill_price_occ_a = params.loc[(\"wage_a\", \"constant\"), \"para\"][0]\n",
    "\n",
    "ret_exp_a_occ_b = params.loc[(\"wage_b\", \"exp_a\"), \"para\"][0]\n",
    "ret_exp_a_sq_occ_b = params.loc[(\"wage_b\", \"exp_a_square\"), \"para\"][0]\n",
    "ret_exp_b_occ_b = params.loc[(\"wage_b\", \"exp_b\"), \"para\"][0]\n",
    "ret_exp_b_sq_occ_b = params.loc[(\"wage_b\", \"exp_b_square\"), \"para\"][0]\n",
    "skill_price_occ_b = params.loc[(\"wage_b\", \"constant\"), \"para\"][0]"
   ]
  },
  {
   "cell_type": "code",
   "execution_count": null,
   "metadata": {
    "nbsphinx": "hidden"
   },
   "outputs": [],
   "source": [
    "x, y = np.meshgrid(range(0, 20), range(0, 20))\n",
    "\n",
    "z_a = np.exp(\n",
    "    skill_price_occ_a + ret_schooling_occ_a * 10\n",
    "    + ret_exp_a_occ_a * x + ret_exp_a_sq_occ_a * x ** 2 / 100\n",
    "    + ret_exp_b_occ_a * y + ret_exp_b_sq_occ_a * y ** 2 / 100\n",
    ")\n",
    "\n",
    "z_b = np.exp(\n",
    "    skill_price_occ_b + ret_schooling_occ_b * 10\n",
    "    + ret_exp_a_occ_b * x + ret_exp_a_sq_occ_b * x ** 2 / 100\n",
    "    + ret_exp_b_occ_b * y + ret_exp_b_sq_occ_b * y ** 2 / 100\n",
    ")"
   ]
  },
  {
   "cell_type": "code",
   "execution_count": null,
   "metadata": {
    "nbsphinx": "hidden"
   },
   "outputs": [],
   "source": [
    "fig = plt.figure()\n",
    "ax1 = fig.add_subplot(1, 2, 1, projection=\"3d\")\n",
    "ax2 = fig.add_subplot(1, 2, 2, projection=\"3d\")\n",
    "\n",
    "ax1.plot_surface(x, y, z_a / 1000, color=\"C2\")\n",
    "ax2.plot_surface(x, y, z_b / 1000, color=\"C3\")\n",
    "\n",
    "for ax in [ax1, ax2]:\n",
    "    ax.set_xticks(range(0, 21, 5))\n",
    "    ax.set_yticks(range(0, 21, 5))\n",
    "    ax.set_zticks(range(10, 36, 5))\n",
    "    ax.set_zticklabels(range(10, 36, 5))\n",
    "    ax.set_zlim(10, 35)\n",
    "    ax.invert_xaxis()\n",
    "    ax.set_xlabel(\"Experience A\", labelpad=15)\n",
    "    ax.set_ylabel(\"Experience B\", labelpad=15)\n",
    "    ax.set_proj_type('ortho')\n",
    "    ax.set_zlabel(\"Wages in (\\$1,000)\", labelpad=15, rotation=\"vertical\")\n",
    "    \n",
    "ax1.set_title(\"(a)\", y=-0.15)\n",
    "ax2.set_title(\"(b)\", y=-0.15);"
   ]
  },
  {
   "cell_type": "code",
   "execution_count": null,
   "metadata": {},
   "outputs": [],
   "source": [
    "fig"
   ]
  },
  {
   "cell_type": "markdown",
   "metadata": {},
   "source": [
    "The next figure shows that the returns to schooling are larger in Occupation B. While its initial wage is lower, it does increase faster with schooling compared to Occupation A. The graphs are generated by holding experience in both sectors constant at five years."
   ]
  },
  {
   "cell_type": "code",
   "execution_count": null,
   "metadata": {
    "nbsphinx": "hidden"
   },
   "outputs": [],
   "source": [
    "years_schooling = np.arange(10, 21)\n",
    "\n",
    "wage_a = np.exp(\n",
    "    skill_price_occ_a + ret_schooling_occ_a * years_schooling\n",
    "    + ret_exp_a_occ_a * 5 + ret_exp_a_sq_occ_a * 5 ** 2 / 100\n",
    "    + ret_exp_b_occ_a * 5 + ret_exp_b_sq_occ_a * 5 ** 2 / 100\n",
    ")\n",
    "\n",
    "wage_b = np.exp(\n",
    "    skill_price_occ_b + ret_schooling_occ_b * years_schooling\n",
    "    + ret_exp_a_occ_b * 5 + ret_exp_a_sq_occ_b * 5 ** 2 / 100\n",
    "    + ret_exp_b_occ_b * 5 + ret_exp_b_sq_occ_b * 5 ** 2 / 100\n",
    ")\n",
    "\n",
    "fig, ax = plt.subplots()\n",
    "\n",
    "ax.plot(years_schooling, wage_a / 1000, color=\"C2\", label=\"Occupation A\")\n",
    "ax.plot(years_schooling, wage_b / 1000, color=\"C3\", label=\"Occupation B\")\n",
    "\n",
    "ax.set_xlim(10, 20)\n",
    "ax.set_ylim(14, 30)\n",
    "ax.set_yticks(range(16, 31, 2))\n",
    "\n",
    "ax.set_xlabel(\"Years of Schooling\")\n",
    "ax.set_ylabel(\"Wages (in \\$1,000)\")\n",
    "\n",
    "ax.legend();"
   ]
  },
  {
   "cell_type": "code",
   "execution_count": null,
   "metadata": {},
   "outputs": [],
   "source": [
    "fig"
   ]
  },
  {
   "cell_type": "markdown",
   "metadata": {},
   "source": [
    "Simulating a sample of 1,000 agents from the model allows us to study how these features interact in determining agent decisions over their life cycle. Note that all agents start out identically, different choices are simply the cumulative effects of different shocks. Initially, 50% of agents increase their level of schooling but the share of agents enrolled in school declines sharply over time. The share working in Occupation A hovers around 40% at first, but then declines to 21%. Occupation B continuously gains in popularity, initially only 11% work in Occupation B but its share increases to about 77%. Around 1.5% stay at home each period. We visualize this choice pattern in detail below."
   ]
  },
  {
   "cell_type": "code",
   "execution_count": null,
   "metadata": {
    "nbsphinx": "hidden"
   },
   "outputs": [],
   "source": [
    "_, df = rp.simulate(params, options)"
   ]
  },
  {
   "cell_type": "code",
   "execution_count": null,
   "metadata": {
    "nbsphinx": "hidden"
   },
   "outputs": [],
   "source": [
    "fig, ax = plt.subplots()\n",
    "\n",
    "shares = df.groupby(\"Period\").Choice.value_counts().unstack()[[\"home\", \"edu\", \"a\", \"b\"]].div(1000)\n",
    "\n",
    "shares.plot.bar(stacked=True, ax=ax, width=0.8)\n",
    "\n",
    "ax.legend(\n",
    "    labels=[\"Home\", \"School\", \"A\", \"B\"],\n",
    "    loc=\"upper center\",\n",
    "    bbox_to_anchor=(0.5, -0.1),\n",
    "    ncol=4\n",
    ")\n",
    "\n",
    "ax.set_ylim(0, 1)\n",
    "\n",
    "ax.set_xticks(range(0, 40, 5))\n",
    "ax.set_xticklabels(range(0, 40, 5), rotation=\"horizontal\")\n",
    "\n",
    "ax.set_ylabel(\"Share of population\");"
   ]
  },
  {
   "cell_type": "code",
   "execution_count": null,
   "metadata": {},
   "outputs": [],
   "source": [
    "fig"
   ]
  },
  {
   "cell_type": "markdown",
   "metadata": {},
   "source": [
    "We start out with the large majority of agents working in Occupation A. Eventually, however, most agents end up working in Occupation B. As the returns to education are higher for Occupation B and previous work experience is transferable, Occupation B gets more and more attractive as agents increase their level of schooling and gain experience in the labor market.\n",
    "\n",
    "For the next graph, we assume that the cost of education in high school and college\n",
    "increase from 4,000 to 10,000 per year. Again, we simulate a sample of 1,000 agents and look at\n",
    "the distribution of choices over the life cycle. As the cost of education increases,\n",
    "fewer people re-enroll into high school or college. This drives down returns in\n",
    "occupation B which is still the choice of the majority, but now the stable share is 65\\%\n",
    "instead of 80\\%. Furthermore, more people stay at home as education is too costly to\n",
    "obtain and thus they never earn wages high enough to surpass the returns from home\n",
    "production."
   ]
  },
  {
   "cell_type": "code",
   "execution_count": null,
   "metadata": {
    "nbsphinx": "hidden"
   },
   "outputs": [],
   "source": [
    "params.loc[(\"nonpec_edu\", \"is_return_not_high_school\"), \"para\"] = -10000\n",
    "params.loc[(\"nonpec_edu\", \"is_return_high_school\"), \"para\"] = -10000\n",
    "\n",
    "_, df = rp.simulate(params, options)"
   ]
  },
  {
   "cell_type": "code",
   "execution_count": null,
   "metadata": {
    "nbsphinx": "hidden"
   },
   "outputs": [],
   "source": [
    "fig, ax = plt.subplots()\n",
    "\n",
    "shares = df.groupby(\"Period\").Choice.value_counts().unstack()[[\"home\", \"edu\", \"a\", \"b\"]].div(1000)\n",
    "\n",
    "shares.plot.bar(stacked=True, ax=ax, width=0.8)\n",
    "\n",
    "ax.legend(\n",
    "    labels=[\"Home\", \"School\", \"A\", \"B\"],\n",
    "    loc=\"upper center\",\n",
    "    bbox_to_anchor=(0.5, -0.1),\n",
    "    ncol=4\n",
    ")\n",
    "\n",
    "ax.set_ylim(0, 1)\n",
    "\n",
    "ax.set_xticks(range(0, 40, 5))\n",
    "ax.set_xticklabels(range(0, 40, 5), rotation=\"horizontal\")\n",
    "\n",
    "ax.set_ylabel(\"Share of population\");"
   ]
  },
  {
   "cell_type": "code",
   "execution_count": null,
   "metadata": {},
   "outputs": [],
   "source": [
    "fig"
   ]
  },
  {
   "cell_type": "code",
   "execution_count": null,
   "metadata": {},
   "outputs": [],
   "source": []
  }
 ],
 "metadata": {
  "kernelspec": {
   "display_name": "Python 3",
   "language": "python",
   "name": "python3"
  },
  "language_info": {
   "codemirror_mode": {
    "name": "ipython",
    "version": 3
   },
   "file_extension": ".py",
   "mimetype": "text/x-python",
   "name": "python",
   "nbconvert_exporter": "python",
   "pygments_lexer": "ipython3",
   "version": "3.6.9"
  }
 },
 "nbformat": 4,
 "nbformat_minor": 4
}
