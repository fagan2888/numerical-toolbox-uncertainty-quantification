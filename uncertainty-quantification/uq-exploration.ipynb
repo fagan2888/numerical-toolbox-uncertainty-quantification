{
 "cells": [
  {
   "cell_type": "markdown",
   "metadata": {},
   "source": [
    "#  Uncertainty Quantification for Economists"
   ]
  },
  {
   "cell_type": "markdown",
   "metadata": {},
   "source": [
    "# Table of Contents\n",
    "1. [Introduction](#intro)\n",
    "2. [Uncertainty Quantification in Economics](#uqe)\n",
    "3. [Monte-Carlo Uncertainty Propagation: An Economic example](#mcup)\n",
    "4. [Our Learning Interests](#oli)  \n",
    "   [References](#references)"
   ]
  },
  {
   "cell_type": "markdown",
   "metadata": {},
   "source": [
    "## Abbreviations\n",
    "\n",
    "UQ - Uncertainty Quantification  \n",
    "QoI - Quantity of Interest"
   ]
  },
  {
   "cell_type": "markdown",
   "metadata": {},
   "source": [
    "## Introduction <a name=\"introduction\"></a>\n",
    "\n",
    "Uncertainty Quantification is an increasingly well-established toolkit in many applied sciences such as metereology, climatology, engineering, virology etc. Models to which the tools of UQ are applied are amongst others weather and climate models, nuclear reactor models and HIV models. Applioed UQ aims to analyze the uncertainty of mathematical models that may come from various sources. The sources can be categorized in (i) model errors or discrepancies, (ii) input uncertainties, (iii) numerical errors and uncertainties and (iv) measurement errors and uncertainties. Once they are identified, the model can be improved. Given the magnitude of uncertainty in most models that are used to make - oftentimes tremendously important - decisions, Uncertainty Quantification should be part of every serious applied model-based research and practice.\n",
    "\n",
    "Usually, the second source of uncertainty, input uncertainties, is the main objective for an applied UQ. The reasons are first, that the tools to identify the model uncertainty that is propagated by the input paramters are relatively accessible and second, that this uncertainaty is oftentimes hard to resolve and thus should at least be reported. The following shows the steps to be taken when applying UQ to some model.\n",
    "\n",
    "## <center> Figure 1: UQ framework </center>\n",
    "<img src=\"_notebook_material/uq_framework.png\" width=\"66%\" align=\"center\"/>\n",
    "\n",
    "In Step A, the computational model $M$ is defined. This requires to identify input paramters and output QoIs.  \n",
    "In Step B, the uncertainty in the input paramters is described by a joint PDF that best represents the available information.  \n",
    "In Step C, uncertainty propagation is carried out so as to analyze the moments and dsitributions of the QoI, for instance by plotting histograms.  \n",
    "Finally, in Step C', sensitivity analysis is carried out to rank the input parameters according to their impact onto the predicition uncertainty, or to identify the direction of change of that impact. The acquired knowledge can be used to focus a more detailed analysis on a subset of the input variables.  \n",
    "Resulting from the first analysis round, the model and its paramters composition might be changed. THen the process might be repeated.\n",
    "\n",
    "A very important decision when executing an UQ is whether to use Monte Carlo simulation (MCS) or a surrogate model that serves as an easy-to-evalualte approximation of the model that returns the QoI.\n",
    "The reason that one might want to choose the second option is that for computationally expensive models, the well-known slow convergence rate of MCS methods hinders their application in many practical scenarios.\n",
    "\n",
    "The below figure depicts the model-based predictive estimation process in the light of a fully-fledged Uncertainty Quantification. It regards all four sources of model uncertainty as well as the need for additional advanced mathematical methods to use surrogate models.\n",
    "\n",
    "## <center> Figure 2: Components of predictive estimation with UQ </center>\n",
    "<img src=\"_notebook_material/uq_flowchart.png\" width=\"66%\" align=\"center\"/>\n",
    "\n",
    "As also highlighted by the first figure, Model Calibration and Uncertainty Propagation are the driving objectives. The remaining topics are required to achieve these objectives for large-scale applications.\n",
    "Local Sensitity analysis in contrast to global sensitivity analysis aims at quantifying the effect of a subset of paramters on the QoI - but only for evaluations at a subset of the domain.\n",
    "Stochastic Spectral Methods, e.g. Stochastic Galerkin, collocation or discrete projection mehtods provide options for computing surrogate models. Sparse grid methods are requred to implement stochastic spectral methods and for direct implementation of Bayesian model calibation methods when paramter dimensions are moderate."
   ]
  },
  {
   "cell_type": "markdown",
   "metadata": {},
   "source": [
    "## Uncertainty Quantification in Economics\n",
    "A part of the economic literature is well aware of the need for uncertainty quantification. However, with few exceptions (e.g. [Harenberg et al. (2019)](https://onlinelibrary.wiley.com/doi/abs/10.3982/QE866), this is not put into practice.  \n",
    "In modern economics, we use dynamic economic models to formalize the objectives, trade-offs, and uncertainties faced by individuals when making optimal decisions. The most basic functions that usually characterize the behavior and preferences of the agents that populate our models are utility functions. The utility is a function of a set of parameters such as risk aversion or time preference. These parameters are highly uncertain given the current state of the respective microeconometric literature. Without Uncertainty Quantification being a standard in economics, it is current practice to select a parameter that another autor has selected. Therefore, estimations and forecasts are derived based on models with more or less arbitrarily chosen input paramters.  \n",
    "Our interest is to make a contribution to our profession by applying state-of-the-art tools from Uncertainty Quantification to our economic models in our research practice."
   ]
  },
  {
   "cell_type": "markdown",
   "metadata": {},
   "source": [
    "## Monte-Carlo Uncertainty Propagation: An Economic example <a name=\"mcup\"></a>\n",
    "\n",
    "Our model of choice is the Discrete Occupation Choice Dynamic Programming Model in Keane and Wolpin (1994). In short, the model is solved by applying Maximum Likelihood estimations to a set of occupational choices in each iteration of the Value Function Iteration algorithm. The number of input parameters is 26 and we have estimates for mean and covariance for each of those input parameters.\n",
    "\n",
    "The following Code propagates the model uncertainty from the uncertainty in its input factors. Our QoI is the effect of a tuition subsidy of the average number of schooling years. We plot the Convergence of the Mean of our Quantity of Interest compared to our Quantity of Interest under mean paramtrization and also the dsitribution of the QoI."
   ]
  },
  {
   "cell_type": "code",
   "execution_count": 1,
   "metadata": {},
   "outputs": [],
   "source": [
    "%matplotlib inline\n",
    "import json\n",
    "import numpy as np\n",
    "import pandas as pd\n",
    "import respy as rp\n",
    "\n",
    "from python.mc_uncertainty_propagation import *\n",
    "from python.model_wrapper import model_wrapper_kw_94\n",
    "from python.cov_matrix import create_cov_matrix\n",
    "from python.distplot import distplot\n",
    "from python.convergence_plot import convergence_plot"
   ]
  },
  {
   "cell_type": "markdown",
   "metadata": {},
   "source": [
    "## Our Learning Interests <a name=\"oli\"></a>"
   ]
  },
  {
   "cell_type": "markdown",
   "metadata": {},
   "source": [
    "## References <a name=\"references\"></a>\n",
    "\n",
    "Feinberg, J., Langtagen, H. P. (2015) [\"Chaospy: An open source tool for designing methods of uncertainty quantification\"](https://www.sciencedirect.com/science/article/pii/S1877750315300119), Journal of Computational Science, 11: pp. 46-57.\n",
    "\n",
    "Harenberg, D., Marelli, S., Sudret B., Winschel V. (2019). [\"Uncertainty quantification and global sensitivity analysis for economic models\"](https://onlinelibrary.wiley.com/doi/abs/10.3982/QE866), Quantitative Economics, 10(1): 1-41.\n",
    "\n",
    "Keane, M. P. & Wolpin, W. I. (1994). [\"The Solution and Estimation of Discrete Choice Dynamic Pogramming Models by Simulation and Interpolation: Monte Carlo Evidence\"](http://research.economics.unsw.edu.au/mkeane/Solution_Estimation_DP.pdf), Review of Economics and Statistics, 76(4): pp. 648-672.\n",
    "\n",
    "Keane, M. P. and Wolpin, K. I. (1997). [\"The Career Decisions of Young Men\"](https://www.jstor.org/stable/pdf/10.1086/262080.pdf?refreqid=excelsior%3A4e16df222bafe665c89727fac7aad557&seq=1#page_scan_tab_contents). Journal of Political Economy, 105(3): pp. 473-522.\n",
    "\n",
    "Smith, R. C. (2013). [Uncertainty Quantification: Theory, Implementation, and Applications](https://my.siam.org/Store/Product/viewproduct/?ProductId=24973024). SIAM. Philadelphia, Pennsylvania."
   ]
  }
 ],
 "metadata": {
  "kernelspec": {
   "display_name": "Python 3",
   "language": "python",
   "name": "python3"
  },
  "language_info": {
   "codemirror_mode": {
    "name": "ipython",
    "version": 3
   },
   "file_extension": ".py",
   "mimetype": "text/x-python",
   "name": "python",
   "nbconvert_exporter": "python",
   "pygments_lexer": "ipython3",
   "version": "3.6.9"
  }
 },
 "nbformat": 4,
 "nbformat_minor": 4
}
