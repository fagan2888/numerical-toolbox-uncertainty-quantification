{
 "cells": [
  {
   "cell_type": "markdown",
   "metadata": {},
   "source": [
    "#  Uncertainty Quantification for Economists"
   ]
  },
  {
   "cell_type": "markdown",
   "metadata": {},
   "source": [
    "# Table of Contents\n",
    "1. [Introduction](#intro)\n",
    "2. [Uncertainty Quantification in Economics](#uqe)\n",
    "3. [Monte-Carlo Uncertainty Propagation: An Economic example](#mcup)\n",
    "4. [Our Learning Interests](#oli)  \n",
    "   [References](#references)"
   ]
  },
  {
   "cell_type": "markdown",
   "metadata": {},
   "source": [
    "## Abbreviations\n",
    "\n",
    "UQ - Uncertainty Quantification  \n",
    "QoI - Quantity of Interest"
   ]
  },
  {
   "cell_type": "markdown",
   "metadata": {},
   "source": [
    "## Introduction <a name=\"introduction\"></a>\n",
    "\n",
    "Uncertainty Quantification is a increasingly well-established toolkit in many applied sciences such as metereology, climatology, engineering, virology etc. Models to which the tools of UQ are applied are, amongst others, weather and climate models, nuclear reactor models and HIV models. Applied UQ aims to analyze the uncertainty of mathematical models that may come from various sources. The sources can be categorized in (i) model errors or discrepancies, (ii) input uncertainties, (iii) numerical errors and uncertainties and (iv) measurement errors and uncertainties. Once they are identified, the model can be improved. Given the magnitude of uncertainty in most models that are used to make - oftentimes tremendously important - decisions, Uncertainty Quantification should be part of every serious applied, model-based research and practice."
   ]
  },
  {
   "cell_type": "markdown",
   "metadata": {},
   "source": [
    "## Uncertainty Quantification in Economics\n",
    "A part of the economic literature is well aware of the need for uncertainty quantification. However, with few exceptions (see, e.g., [Harenberg et al. (2019)](https://onlinelibrary.wiley.com/doi/abs/10.3982/QE866), [Ratto (2008)](https://link.springer.com/article/10.1007/s10614-007-9110-6) and [Nordhaus et al. (2015)](https://www.nber.org/papers/w21637) this need is not adressed in practice.  \n",
    "In modern economics, we use dynamic economic models to formalize the objectives, trade-offs, and uncertainties faced by individuals when making optimal decisions. A illustrative example for the need of UQ in Economics are Utility Functions. These are the most basic functions that usually characterize the behavior and preferences of the agents that populate our models. Utility is a function of a set of parameters such as risk aversion or time preference. These parameters are highly uncertain given the current state of the respective microeconometric literature. Without Uncertainty Quantification being a standard in economics, it is current practice to simply select a parameter value that another autor has selected before. Therefore, estimations and forecasts are typically derived based on models with input paramters that are more or less chosen arbitrarily.  \n",
    "Our interest is to make a contribution to our profession by applying state-of-the-art tools from Uncertainty Quantification to our economic models in our research practice."
   ]
  },
  {
   "cell_type": "markdown",
   "metadata": {},
   "source": [
    "## Monte-Carlo Uncertainty Propagation: An Economic example <a name=\"mcup\"></a>\n",
    "\n",
    "Our model of choice is the Discrete Occupation Choice Dynamic Programming Model in Keane and Wolpin (1994). In short, the model is solved by applying Maximum Likelihood estimations to a set of occupational choices in each iteration of the Value Function Iteration algorithm. The number of input parameters is 26 and we have estimates for mean and covariance for each of those input parameters.\n",
    "\n",
    "The following code propagates the uncertainty from the model's input parameter to one model output. Our QoI is the effect of a tuition subsidy on the average number of schooling years. We plot the Convergence of the Mean of our Quantity of Interest compared to our Quantity of Interest under mean paramtrization for 10k iterations. We also show the distribution of the QoI."
   ]
  },
  {
   "cell_type": "code",
   "execution_count": 1,
   "metadata": {},
   "outputs": [],
   "source": [
    "%matplotlib inline\n",
    "import json\n",
    "import numpy as np\n",
    "import pandas as pd\n",
    "import respy as rp\n",
    "\n",
    "from python.mc_uncertainty_propagation import *\n",
    "from python.model_wrapper import model_wrapper_kw_94\n",
    "from python.cov_matrix import create_cov_matrix\n",
    "from python.distplot import distplot\n",
    "from python.convergence_plot import convergence_plot"
   ]
  },
  {
   "cell_type": "code",
   "execution_count": 2,
   "metadata": {},
   "outputs": [],
   "source": [
    "params, options = rp.get_example_model(\"kw_94_one\", with_data=False)"
   ]
  },
  {
   "cell_type": "code",
   "execution_count": 3,
   "metadata": {},
   "outputs": [],
   "source": [
    "# read and label mean input paramters from table in KW97\n",
    "df = pd.read_csv(\"csv/table41_kw_94.csv\", sep=\",\")\n",
    "params_csv_temp = pd.Series(data=df[\"true\"].values, index=df[\"parameter\"].values)\n",
    "\n",
    "# transform them to respy format that is slightly different\n",
    "params_csv_rp = transform_params_kw94_respy(params_csv_temp)\n",
    "\n",
    "# compute the qoi under mean parametrization\n",
    "qoi_mean_params = model_wrapper_kw_94(params_csv_rp.to_numpy(), 500)[0] - model_wrapper_kw_94(params_csv_rp.to_numpy(), 0)[0]\n",
    "\n",
    "# init covariance matrix based on table in KW97\n",
    "cov_df = create_cov_matrix()\n",
    "\n",
    "# possible live Uncertainty Propagation with low run time\n",
    "\n",
    "#mean_params = pd.Series(data=df[\"true\"].values, index=df[\"parameter\"].values)\n",
    "#qoi, rp_param_draws = mc_uncertainty_propagation(mean_params, cov_df, 10, save=False)\n",
    "\n",
    "# Init data for Uncertainty Propagation with larger run time\n",
    "with open('json/qoi.json') as json_file:\n",
    "    qoi_json = json.load(json_file)"
   ]
  },
  {
   "cell_type": "markdown",
   "metadata": {},
   "source": [
    "![convergence_plot](figures/convergence_plot_level_QoI.png)"
   ]
  },
  {
   "cell_type": "markdown",
   "metadata": {},
   "source": [
    "![distplot](figures/distplot_QoI.png)"
   ]
  },
  {
   "cell_type": "markdown",
   "metadata": {},
   "source": [
    "## Our Learning Interests <a name=\"oli\"></a>\n",
    "\n",
    "We are especially interested in your opinion on the following questions:\n",
    "- What - in general - are the \"best\" measures for Parameter Uncertainty and its analysis?\n",
    "- What could be good rules to decide whether to use Monte Carlo or a surrogate model?\n",
    "- What are the \"best\" numerical methods to compute a surrogate model and UQ measures based on it?"
   ]
  },
  {
   "cell_type": "markdown",
   "metadata": {},
   "source": [
    "## References <a name=\"references\"></a>\n",
    "\n",
    "Feinberg, J., Langtagen, H. P. (2015) [\"Chaospy: An open source tool for designing methods of uncertainty quantification\"](https://www.sciencedirect.com/science/article/pii/S1877750315300119), Journal of Computational Science, 11: pp. 46-57.\n",
    "\n",
    "Gillingham, K., Nordhaus, W.D., Anthoff, D., Blanford G., Bosetti, V., Christensen P., McJeon, H., Reilly, J., Sztorc, P. (2015) [\"Modeling Uncertainty in Climate Change: A Multi-Model Comparison\"], (https://www.nber.org/papers/w21637) NBER Working Paper.\n",
    "\n",
    "Harenberg, D., Marelli, S., Sudret B., Winschel V. (2019). [\"Uncertainty quantification and global sensitivity analysis for economic models\"](https://onlinelibrary.wiley.com/doi/abs/10.3982/QE866), Quantitative Economics, 10(1): 1-41.\n",
    "\n",
    "Keane, M. P. & Wolpin, W. I. (1994). [\"The Solution and Estimation of Discrete Choice Dynamic Pogramming Models by Simulation and Interpolation: Monte Carlo Evidence\"](http://research.economics.unsw.edu.au/mkeane/Solution_Estimation_DP.pdf), Review of Economics and Statistics, 76(4): pp. 648-672.\n",
    "\n",
    "Keane, M. P. and Wolpin, K. I. (1997). [\"The Career Decisions of Young Men\"](https://www.jstor.org/stable/pdf/10.1086/262080.pdf?refreqid=excelsior%3A4e16df222bafe665c89727fac7aad557&seq=1#page_scan_tab_contents). Journal of Political Economy, 105(3): pp. 473-522.\n",
    "\n",
    "Ratto, M. (2008) [\"Analysing DSGE Models with Global Sensitivity Analysis\"](https://link.springer.com/article/10.1007/s10614-007-9110-6), Computational Economics, 31(2): pp. 115–139.\n",
    "\n",
    "Smith, R. C. (2013). [Uncertainty Quantification: Theory, Implementation, and Applications](https://my.siam.org/Store/Product/viewproduct/?ProductId=24973024). SIAM. Philadelphia, Pennsylvania.\n",
    "\n",
    "Sullivan, T. J. (2015). [Introduction to uncertainty quantification](https://www.semanticscholar.org/paper/Introduction-to-uncertainty-quantification-Sullivan/733938adeeb70a5a1463d64c1447397d926bb64b). Springer, Heidelberg."
   ]
  },
  {
   "cell_type": "code",
   "execution_count": 4,
   "metadata": {},
   "outputs": [],
   "source": [
    "#convergence_plot(qoi_json, qoi_mean_params, \"QoI\")"
   ]
  },
  {
   "cell_type": "code",
   "execution_count": 5,
   "metadata": {},
   "outputs": [],
   "source": [
    "#distplot(qoi_json, \"QoI\")"
   ]
  },
  {
   "cell_type": "code",
   "execution_count": null,
   "metadata": {},
   "outputs": [],
   "source": []
  }
 ],
 "metadata": {
  "kernelspec": {
   "display_name": "Python 3",
   "language": "python",
   "name": "python3"
  },
  "language_info": {
   "codemirror_mode": {
    "name": "ipython",
    "version": 3
   },
   "file_extension": ".py",
   "mimetype": "text/x-python",
   "name": "python",
   "nbconvert_exporter": "python",
   "pygments_lexer": "ipython3",
   "version": "3.6.9"
  }
 },
 "nbformat": 4,
 "nbformat_minor": 4
}
