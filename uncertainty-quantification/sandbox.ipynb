{
 "cells": [
  {
   "cell_type": "markdown",
   "metadata": {},
   "source": [
    "Replicate Policy Impact in KW94 page 667:\n",
    "\"a 500 dollar per-perod subsidy assuming data set one paramters increases schooling by 1.44 periods\""
   ]
  },
  {
   "cell_type": "code",
   "execution_count": 1,
   "metadata": {},
   "outputs": [],
   "source": [
    "%matplotlib inline\n",
    "import json\n",
    "import numpy as np\n",
    "import pandas as pd\n",
    "import respy as rp\n",
    "\n",
    "from python.mc_uncertainty_propagation import *\n",
    "from python.model_wrapper import model_wrapper_kw_94\n",
    "from python.cov_matrix import create_cov_matrix\n",
    "from python.distplot import distplot\n",
    "from python.convergence_plot import convergence_plot"
   ]
  },
  {
   "cell_type": "markdown",
   "metadata": {},
   "source": [
    "# The next two cells illustrate Data Set 3 discrepancies between respy and this repo.\n",
    "\n",
    "# Have a look at the shocks paramters."
   ]
  },
  {
   "cell_type": "code",
   "execution_count": 2,
   "metadata": {},
   "outputs": [
    {
     "data": {
      "text/html": [
       "<div>\n",
       "<style scoped>\n",
       "    .dataframe tbody tr th:only-of-type {\n",
       "        vertical-align: middle;\n",
       "    }\n",
       "\n",
       "    .dataframe tbody tr th {\n",
       "        vertical-align: top;\n",
       "    }\n",
       "\n",
       "    .dataframe thead th {\n",
       "        text-align: right;\n",
       "    }\n",
       "</style>\n",
       "<table border=\"1\" class=\"dataframe\">\n",
       "  <thead>\n",
       "    <tr style=\"text-align: right;\">\n",
       "      <th></th>\n",
       "      <th></th>\n",
       "      <th>value</th>\n",
       "      <th>comment</th>\n",
       "    </tr>\n",
       "    <tr>\n",
       "      <th>category</th>\n",
       "      <th>name</th>\n",
       "      <th></th>\n",
       "      <th></th>\n",
       "    </tr>\n",
       "  </thead>\n",
       "  <tbody>\n",
       "    <tr>\n",
       "      <th>delta</th>\n",
       "      <th>delta</th>\n",
       "      <td>0.950</td>\n",
       "      <td>discount factor</td>\n",
       "    </tr>\n",
       "    <tr>\n",
       "      <th rowspan=\"6\" valign=\"top\">wage_a</th>\n",
       "      <th>constant</th>\n",
       "      <td>8.000</td>\n",
       "      <td>log of rental price</td>\n",
       "    </tr>\n",
       "    <tr>\n",
       "      <th>exp_edu</th>\n",
       "      <td>0.070</td>\n",
       "      <td>return to an additional year of schooling</td>\n",
       "    </tr>\n",
       "    <tr>\n",
       "      <th>exp_a</th>\n",
       "      <td>0.055</td>\n",
       "      <td>return to same sector experience</td>\n",
       "    </tr>\n",
       "    <tr>\n",
       "      <th>exp_a_square</th>\n",
       "      <td>0.000</td>\n",
       "      <td>return to same sector, quadratic experience</td>\n",
       "    </tr>\n",
       "    <tr>\n",
       "      <th>exp_b</th>\n",
       "      <td>0.000</td>\n",
       "      <td>return to other sector experience</td>\n",
       "    </tr>\n",
       "    <tr>\n",
       "      <th>exp_b_square</th>\n",
       "      <td>0.000</td>\n",
       "      <td>return to other sector, quadratic experience</td>\n",
       "    </tr>\n",
       "    <tr>\n",
       "      <th rowspan=\"6\" valign=\"top\">wage_b</th>\n",
       "      <th>constant</th>\n",
       "      <td>7.900</td>\n",
       "      <td>log of rental price</td>\n",
       "    </tr>\n",
       "    <tr>\n",
       "      <th>exp_edu</th>\n",
       "      <td>0.070</td>\n",
       "      <td>return to an additional year of schooling</td>\n",
       "    </tr>\n",
       "    <tr>\n",
       "      <th>exp_b</th>\n",
       "      <td>0.060</td>\n",
       "      <td>return to same sector experience</td>\n",
       "    </tr>\n",
       "    <tr>\n",
       "      <th>exp_b_square</th>\n",
       "      <td>0.000</td>\n",
       "      <td>return to same sector, quadratic experience</td>\n",
       "    </tr>\n",
       "    <tr>\n",
       "      <th>exp_a</th>\n",
       "      <td>0.055</td>\n",
       "      <td>return to other sector experience</td>\n",
       "    </tr>\n",
       "    <tr>\n",
       "      <th>exp_a_square</th>\n",
       "      <td>0.000</td>\n",
       "      <td>return to other sector, quadratic experience</td>\n",
       "    </tr>\n",
       "    <tr>\n",
       "      <th rowspan=\"3\" valign=\"top\">nonpec_edu</th>\n",
       "      <th>constant</th>\n",
       "      <td>5000.000</td>\n",
       "      <td>constant reward for choosing education</td>\n",
       "    </tr>\n",
       "    <tr>\n",
       "      <th>at_least_twelve_exp_edu</th>\n",
       "      <td>-5000.000</td>\n",
       "      <td>reward for going to college (tuition, etc.)</td>\n",
       "    </tr>\n",
       "    <tr>\n",
       "      <th>not_edu_last_period</th>\n",
       "      <td>-20000.000</td>\n",
       "      <td>reward for going back to school</td>\n",
       "    </tr>\n",
       "    <tr>\n",
       "      <th>nonpec_home</th>\n",
       "      <th>constant</th>\n",
       "      <td>21500.000</td>\n",
       "      <td>constant reward of non-market alternative</td>\n",
       "    </tr>\n",
       "    <tr>\n",
       "      <th rowspan=\"10\" valign=\"top\">shocks</th>\n",
       "      <th>sd_a</th>\n",
       "      <td>1.000</td>\n",
       "      <td>Element 1,1 of standard-deviation/correlation ...</td>\n",
       "    </tr>\n",
       "    <tr>\n",
       "      <th>sd_b</th>\n",
       "      <td>1.000</td>\n",
       "      <td>Element 2,2 of standard-deviation/correlation ...</td>\n",
       "    </tr>\n",
       "    <tr>\n",
       "      <th>sd_edu</th>\n",
       "      <td>7000.000</td>\n",
       "      <td>Element 3,3 of standard-deviation/correlation ...</td>\n",
       "    </tr>\n",
       "    <tr>\n",
       "      <th>sd_home</th>\n",
       "      <td>8500.000</td>\n",
       "      <td>Element 4,4 of standard-deviation/correlation ...</td>\n",
       "    </tr>\n",
       "    <tr>\n",
       "      <th>corr_b_a</th>\n",
       "      <td>0.500</td>\n",
       "      <td>Element 2,1 of standard-deviation/correlation ...</td>\n",
       "    </tr>\n",
       "    <tr>\n",
       "      <th>corr_edu_a</th>\n",
       "      <td>0.000</td>\n",
       "      <td>Element 3,1 of standard-deviation/correlation ...</td>\n",
       "    </tr>\n",
       "    <tr>\n",
       "      <th>corr_edu_b</th>\n",
       "      <td>0.000</td>\n",
       "      <td>Element 3,2 of standard-deviation/correlation ...</td>\n",
       "    </tr>\n",
       "    <tr>\n",
       "      <th>corr_home_a</th>\n",
       "      <td>0.000</td>\n",
       "      <td>Element 4,1 of standard-deviation/correlation ...</td>\n",
       "    </tr>\n",
       "    <tr>\n",
       "      <th>corr_home_b</th>\n",
       "      <td>0.000</td>\n",
       "      <td>Element 4,2 of standard-deviation/correlation ...</td>\n",
       "    </tr>\n",
       "    <tr>\n",
       "      <th>corr_home_edu</th>\n",
       "      <td>-0.500</td>\n",
       "      <td>Element 4,3 of standard-deviation/correlation ...</td>\n",
       "    </tr>\n",
       "    <tr>\n",
       "      <th rowspan=\"2\" valign=\"top\">meas_error</th>\n",
       "      <th>sd_a</th>\n",
       "      <td>1.000</td>\n",
       "      <td>standard deviation of the measurement error in...</td>\n",
       "    </tr>\n",
       "    <tr>\n",
       "      <th>sd_b</th>\n",
       "      <td>1.000</td>\n",
       "      <td>standard deviation of the measurement error in...</td>\n",
       "    </tr>\n",
       "  </tbody>\n",
       "</table>\n",
       "</div>"
      ],
      "text/plain": [
       "                                         value  \\\n",
       "category    name                                 \n",
       "delta       delta                        0.950   \n",
       "wage_a      constant                     8.000   \n",
       "            exp_edu                      0.070   \n",
       "            exp_a                        0.055   \n",
       "            exp_a_square                 0.000   \n",
       "            exp_b                        0.000   \n",
       "            exp_b_square                 0.000   \n",
       "wage_b      constant                     7.900   \n",
       "            exp_edu                      0.070   \n",
       "            exp_b                        0.060   \n",
       "            exp_b_square                 0.000   \n",
       "            exp_a                        0.055   \n",
       "            exp_a_square                 0.000   \n",
       "nonpec_edu  constant                  5000.000   \n",
       "            at_least_twelve_exp_edu  -5000.000   \n",
       "            not_edu_last_period     -20000.000   \n",
       "nonpec_home constant                 21500.000   \n",
       "shocks      sd_a                         1.000   \n",
       "            sd_b                         1.000   \n",
       "            sd_edu                    7000.000   \n",
       "            sd_home                   8500.000   \n",
       "            corr_b_a                     0.500   \n",
       "            corr_edu_a                   0.000   \n",
       "            corr_edu_b                   0.000   \n",
       "            corr_home_a                  0.000   \n",
       "            corr_home_b                  0.000   \n",
       "            corr_home_edu               -0.500   \n",
       "meas_error  sd_a                         1.000   \n",
       "            sd_b                         1.000   \n",
       "\n",
       "                                                                               comment  \n",
       "category    name                                                                        \n",
       "delta       delta                                                      discount factor  \n",
       "wage_a      constant                                               log of rental price  \n",
       "            exp_edu                          return to an additional year of schooling  \n",
       "            exp_a                                     return to same sector experience  \n",
       "            exp_a_square                   return to same sector, quadratic experience  \n",
       "            exp_b                                    return to other sector experience  \n",
       "            exp_b_square                  return to other sector, quadratic experience  \n",
       "wage_b      constant                                               log of rental price  \n",
       "            exp_edu                          return to an additional year of schooling  \n",
       "            exp_b                                     return to same sector experience  \n",
       "            exp_b_square                   return to same sector, quadratic experience  \n",
       "            exp_a                                    return to other sector experience  \n",
       "            exp_a_square                  return to other sector, quadratic experience  \n",
       "nonpec_edu  constant                            constant reward for choosing education  \n",
       "            at_least_twelve_exp_edu        reward for going to college (tuition, etc.)  \n",
       "            not_edu_last_period                        reward for going back to school  \n",
       "nonpec_home constant                         constant reward of non-market alternative  \n",
       "shocks      sd_a                     Element 1,1 of standard-deviation/correlation ...  \n",
       "            sd_b                     Element 2,2 of standard-deviation/correlation ...  \n",
       "            sd_edu                   Element 3,3 of standard-deviation/correlation ...  \n",
       "            sd_home                  Element 4,4 of standard-deviation/correlation ...  \n",
       "            corr_b_a                 Element 2,1 of standard-deviation/correlation ...  \n",
       "            corr_edu_a               Element 3,1 of standard-deviation/correlation ...  \n",
       "            corr_edu_b               Element 3,2 of standard-deviation/correlation ...  \n",
       "            corr_home_a              Element 4,1 of standard-deviation/correlation ...  \n",
       "            corr_home_b              Element 4,2 of standard-deviation/correlation ...  \n",
       "            corr_home_edu            Element 4,3 of standard-deviation/correlation ...  \n",
       "meas_error  sd_a                     standard deviation of the measurement error in...  \n",
       "            sd_b                     standard deviation of the measurement error in...  "
      ]
     },
     "execution_count": 2,
     "metadata": {},
     "output_type": "execute_result"
    }
   ],
   "source": [
    "params, options = rp.get_example_model(\"kw_94_three\", with_data=False)\n",
    "params"
   ]
  },
  {
   "cell_type": "code",
   "execution_count": 3,
   "metadata": {},
   "outputs": [
    {
     "data": {
      "text/plain": [
       "category     name                   \n",
       "delta        delta                          0.950000\n",
       "wage_a       constant                       8.000000\n",
       "             exp_edu                        0.070000\n",
       "             exp_a                          0.055000\n",
       "             exp_a_square                  -0.000000\n",
       "             exp_b                          0.000000\n",
       "             exp_b_square                  -0.000000\n",
       "wage_b       constant                       7.900000\n",
       "             exp_edu                        0.070000\n",
       "             exp_b                          0.060000\n",
       "             exp_b_square                  -0.000000\n",
       "             exp_a                          0.550000\n",
       "             exp_a_square                  -0.000000\n",
       "nonpec_edu   constant                    5000.000000\n",
       "             at_least_twelve_exp_edu    -5000.000000\n",
       "             not_edu_last_period       -20000.000000\n",
       "nonpec_home  constant                   21500.000000\n",
       "shocks       sd_a                           1.000000\n",
       "             sd_b                           0.999978\n",
       "             sd_edu                      7000.000000\n",
       "             sd_home                     8499.812998\n",
       "             corr_b_a                       0.500011\n",
       "             corr_edu_a                     0.000000\n",
       "             corr_edu_b                     0.000000\n",
       "             corr_home_a                    0.000000\n",
       "             corr_home_b                    0.000000\n",
       "             corr_home_edu                 -0.500011\n",
       "meas_error   sd_a                           1.000000\n",
       "             sd_b                           1.000000\n",
       "dtype: float64"
      ]
     },
     "execution_count": 3,
     "metadata": {},
     "output_type": "execute_result"
    }
   ],
   "source": [
    "df = pd.read_csv(\"csv/table43_kw_94.csv\", sep=\",\")\n",
    "p = pd.Series(data=df[\"true\"].values, index=df[\"parameter\"].values)\n",
    "ds3 = transform_params_kw94_respy(p)\n",
    "ds3"
   ]
  },
  {
   "cell_type": "markdown",
   "metadata": {},
   "source": [
    "## Check convergence behavior for DS1"
   ]
  },
  {
   "cell_type": "code",
   "execution_count": 4,
   "metadata": {},
   "outputs": [],
   "source": [
    "params, options = rp.get_example_model(\"kw_94_one\", with_data=False)"
   ]
  },
  {
   "cell_type": "code",
   "execution_count": 5,
   "metadata": {},
   "outputs": [],
   "source": [
    "expected_qoi = model_wrapper_kw_94(params[\"value\"].to_numpy())"
   ]
  },
  {
   "cell_type": "code",
   "execution_count": 6,
   "metadata": {},
   "outputs": [
    {
     "data": {
      "text/plain": [
       "1.5417500000000004"
      ]
     },
     "execution_count": 6,
     "metadata": {},
     "output_type": "execute_result"
    }
   ],
   "source": [
    "expected_qoi"
   ]
  },
  {
   "cell_type": "code",
   "execution_count": 7,
   "metadata": {},
   "outputs": [],
   "source": [
    "cov_df = create_cov_matrix()"
   ]
  },
  {
   "cell_type": "code",
   "execution_count": 8,
   "metadata": {},
   "outputs": [],
   "source": [
    "# get mean vector from KW94 table4.2 vecor. \n",
    "df = pd.read_csv(\"csv/table41_kw_94.csv\", sep=\",\")\n",
    "mean = pd.Series(data=df[\"true\"].values, index=df[\"parameter\"].values)"
   ]
  },
  {
   "cell_type": "code",
   "execution_count": 9,
   "metadata": {},
   "outputs": [
    {
     "ename": "ValueError",
     "evalue": "['wage_a' 'exp_a_square'] not contained in the index",
     "output_type": "error",
     "traceback": [
      "\u001b[1;31m---------------------------------------------------------------------------\u001b[0m",
      "\u001b[1;31mValueError\u001b[0m                                Traceback (most recent call last)",
      "\u001b[1;32m<ipython-input-9-645a12ec9d76>\u001b[0m in \u001b[0;36m<module>\u001b[1;34m\u001b[0m\n\u001b[1;32m----> 1\u001b[1;33m \u001b[0mqoi\u001b[0m \u001b[1;33m=\u001b[0m \u001b[0mmc_uncertainty_propagation\u001b[0m\u001b[1;33m(\u001b[0m\u001b[0mmean\u001b[0m\u001b[1;33m,\u001b[0m \u001b[0mcov_df\u001b[0m\u001b[1;33m,\u001b[0m \u001b[1;36m10\u001b[0m\u001b[1;33m,\u001b[0m \u001b[0msave_json\u001b[0m\u001b[1;33m=\u001b[0m\u001b[1;32mTrue\u001b[0m\u001b[1;33m)\u001b[0m\u001b[1;33m\u001b[0m\u001b[1;33m\u001b[0m\u001b[0m\n\u001b[0m",
      "\u001b[1;32m~\\Documents\\numerical-toolbox-uncertainty-quantification\\uncertainty-quantification\\python\\mc_uncertainty_propagation.py\u001b[0m in \u001b[0;36mmc_uncertainty_propagation\u001b[1;34m(mean, cov, n_draws, save_json)\u001b[0m\n\u001b[0;32m     50\u001b[0m         \u001b[0mdraws\u001b[0m \u001b[1;33m=\u001b[0m \u001b[0mcp\u001b[0m\u001b[1;33m.\u001b[0m\u001b[0mMvNormal\u001b[0m\u001b[1;33m(\u001b[0m\u001b[0mloc\u001b[0m\u001b[1;33m=\u001b[0m\u001b[0mmean\u001b[0m\u001b[1;33m,\u001b[0m \u001b[0mscale\u001b[0m\u001b[1;33m=\u001b[0m\u001b[0mcov\u001b[0m\u001b[1;33m)\u001b[0m\u001b[1;33m\u001b[0m\u001b[1;33m\u001b[0m\u001b[0m\n\u001b[0;32m     51\u001b[0m         \u001b[0mkw94_params\u001b[0m \u001b[1;33m=\u001b[0m \u001b[0mpd\u001b[0m\u001b[1;33m.\u001b[0m\u001b[0mSeries\u001b[0m\u001b[1;33m(\u001b[0m\u001b[0mdata\u001b[0m\u001b[1;33m=\u001b[0m\u001b[0mdraws\u001b[0m\u001b[1;33m,\u001b[0m \u001b[0mindex\u001b[0m\u001b[1;33m=\u001b[0m\u001b[0mdf\u001b[0m\u001b[1;33m[\u001b[0m\u001b[1;34m\"parameter\"\u001b[0m\u001b[1;33m]\u001b[0m\u001b[1;33m.\u001b[0m\u001b[0mvalues\u001b[0m\u001b[1;33m)\u001b[0m\u001b[1;33m\u001b[0m\u001b[1;33m\u001b[0m\u001b[0m\n\u001b[1;32m---> 52\u001b[1;33m         \u001b[0mrespy_params\u001b[0m \u001b[1;33m=\u001b[0m \u001b[0mtransform_params_kw94_respy\u001b[0m\u001b[1;33m(\u001b[0m\u001b[0mkw94_params\u001b[0m\u001b[1;33m)\u001b[0m\u001b[1;33m\u001b[0m\u001b[1;33m\u001b[0m\u001b[0m\n\u001b[0m\u001b[0;32m     53\u001b[0m         \u001b[0mqoi\u001b[0m\u001b[1;33m[\u001b[0m\u001b[0mi\u001b[0m\u001b[1;33m]\u001b[0m \u001b[1;33m=\u001b[0m \u001b[0mmodel_wrapper_kw_94\u001b[0m\u001b[1;33m(\u001b[0m\u001b[0mrespy_params\u001b[0m\u001b[1;33m.\u001b[0m\u001b[0mvalues\u001b[0m\u001b[1;33m)\u001b[0m\u001b[1;33m\u001b[0m\u001b[1;33m\u001b[0m\u001b[0m\n\u001b[0;32m     54\u001b[0m \u001b[1;33m\u001b[0m\u001b[0m\n",
      "\u001b[1;32m~\\Documents\\numerical-toolbox-uncertainty-quantification\\uncertainty-quantification\\python\\mc_uncertainty_propagation.py\u001b[0m in \u001b[0;36mtransform_params_kw94_respy\u001b[1;34m(kw94_params)\u001b[0m\n\u001b[0;32m     99\u001b[0m     \u001b[1;31m# Set values that are transformed with *(-1) by respy\u001b[0m\u001b[1;33m\u001b[0m\u001b[1;33m\u001b[0m\u001b[1;33m\u001b[0m\u001b[0m\n\u001b[0;32m    100\u001b[0m     \u001b[1;31m# square experiences alphas\u001b[0m\u001b[1;33m\u001b[0m\u001b[1;33m\u001b[0m\u001b[1;33m\u001b[0m\u001b[0m\n\u001b[1;32m--> 101\u001b[1;33m     \u001b[0mrespy_params\u001b[0m\u001b[1;33m[\u001b[0m\u001b[1;33m(\u001b[0m\u001b[1;34m\"wage_a\"\u001b[0m\u001b[1;33m,\u001b[0m \u001b[1;34m\"exp_a_square\"\u001b[0m\u001b[1;33m)\u001b[0m\u001b[1;33m]\u001b[0m \u001b[1;33m=\u001b[0m \u001b[1;33m-\u001b[0m\u001b[0mkw94_params\u001b[0m\u001b[1;33m[\u001b[0m\u001b[1;34m\"alpha13\"\u001b[0m\u001b[1;33m]\u001b[0m\u001b[1;33m\u001b[0m\u001b[1;33m\u001b[0m\u001b[0m\n\u001b[0m\u001b[0;32m    102\u001b[0m     \u001b[0mrespy_params\u001b[0m\u001b[1;33m[\u001b[0m\u001b[1;33m(\u001b[0m\u001b[1;34m\"wage_a\"\u001b[0m\u001b[1;33m,\u001b[0m \u001b[1;34m\"exp_b_square\"\u001b[0m\u001b[1;33m)\u001b[0m\u001b[1;33m]\u001b[0m \u001b[1;33m=\u001b[0m \u001b[1;33m-\u001b[0m\u001b[0mkw94_params\u001b[0m\u001b[1;33m[\u001b[0m\u001b[1;34m\"alpha15\"\u001b[0m\u001b[1;33m]\u001b[0m\u001b[1;33m\u001b[0m\u001b[1;33m\u001b[0m\u001b[0m\n\u001b[0;32m    103\u001b[0m     \u001b[0mrespy_params\u001b[0m\u001b[1;33m[\u001b[0m\u001b[1;33m(\u001b[0m\u001b[1;34m\"wage_b\"\u001b[0m\u001b[1;33m,\u001b[0m \u001b[1;34m\"exp_b_square\"\u001b[0m\u001b[1;33m)\u001b[0m\u001b[1;33m]\u001b[0m \u001b[1;33m=\u001b[0m \u001b[1;33m-\u001b[0m\u001b[0mkw94_params\u001b[0m\u001b[1;33m[\u001b[0m\u001b[1;34m\"alpha23\"\u001b[0m\u001b[1;33m]\u001b[0m\u001b[1;33m\u001b[0m\u001b[1;33m\u001b[0m\u001b[0m\n",
      "\u001b[1;32m~\\AppData\\Local\\conda\\conda\\envs\\uq\\lib\\site-packages\\pandas\\core\\series.py\u001b[0m in \u001b[0;36m__setitem__\u001b[1;34m(self, key, value)\u001b[0m\n\u001b[0;32m   1037\u001b[0m         \u001b[1;31m# do the setitem\u001b[0m\u001b[1;33m\u001b[0m\u001b[1;33m\u001b[0m\u001b[1;33m\u001b[0m\u001b[0m\n\u001b[0;32m   1038\u001b[0m         \u001b[0mcacher_needs_updating\u001b[0m \u001b[1;33m=\u001b[0m \u001b[0mself\u001b[0m\u001b[1;33m.\u001b[0m\u001b[0m_check_is_chained_assignment_possible\u001b[0m\u001b[1;33m(\u001b[0m\u001b[1;33m)\u001b[0m\u001b[1;33m\u001b[0m\u001b[1;33m\u001b[0m\u001b[0m\n\u001b[1;32m-> 1039\u001b[1;33m         \u001b[0msetitem\u001b[0m\u001b[1;33m(\u001b[0m\u001b[0mkey\u001b[0m\u001b[1;33m,\u001b[0m \u001b[0mvalue\u001b[0m\u001b[1;33m)\u001b[0m\u001b[1;33m\u001b[0m\u001b[1;33m\u001b[0m\u001b[0m\n\u001b[0m\u001b[0;32m   1040\u001b[0m         \u001b[1;32mif\u001b[0m \u001b[0mcacher_needs_updating\u001b[0m\u001b[1;33m:\u001b[0m\u001b[1;33m\u001b[0m\u001b[1;33m\u001b[0m\u001b[0m\n\u001b[0;32m   1041\u001b[0m             \u001b[0mself\u001b[0m\u001b[1;33m.\u001b[0m\u001b[0m_maybe_update_cacher\u001b[0m\u001b[1;33m(\u001b[0m\u001b[1;33m)\u001b[0m\u001b[1;33m\u001b[0m\u001b[1;33m\u001b[0m\u001b[0m\n",
      "\u001b[1;32m~\\AppData\\Local\\conda\\conda\\envs\\uq\\lib\\site-packages\\pandas\\core\\series.py\u001b[0m in \u001b[0;36msetitem\u001b[1;34m(key, value)\u001b[0m\n\u001b[0;32m   1033\u001b[0m                     \u001b[1;32mpass\u001b[0m\u001b[1;33m\u001b[0m\u001b[1;33m\u001b[0m\u001b[0m\n\u001b[0;32m   1034\u001b[0m \u001b[1;33m\u001b[0m\u001b[0m\n\u001b[1;32m-> 1035\u001b[1;33m             \u001b[0mself\u001b[0m\u001b[1;33m.\u001b[0m\u001b[0m_set_with\u001b[0m\u001b[1;33m(\u001b[0m\u001b[0mkey\u001b[0m\u001b[1;33m,\u001b[0m \u001b[0mvalue\u001b[0m\u001b[1;33m)\u001b[0m\u001b[1;33m\u001b[0m\u001b[1;33m\u001b[0m\u001b[0m\n\u001b[0m\u001b[0;32m   1036\u001b[0m \u001b[1;33m\u001b[0m\u001b[0m\n\u001b[0;32m   1037\u001b[0m         \u001b[1;31m# do the setitem\u001b[0m\u001b[1;33m\u001b[0m\u001b[1;33m\u001b[0m\u001b[1;33m\u001b[0m\u001b[0m\n",
      "\u001b[1;32m~\\AppData\\Local\\conda\\conda\\envs\\uq\\lib\\site-packages\\pandas\\core\\series.py\u001b[0m in \u001b[0;36m_set_with\u001b[1;34m(self, key, value)\u001b[0m\n\u001b[0;32m   1083\u001b[0m                 \u001b[0mself\u001b[0m\u001b[1;33m.\u001b[0m\u001b[0m_set_values\u001b[0m\u001b[1;33m(\u001b[0m\u001b[0mkey\u001b[0m\u001b[1;33m.\u001b[0m\u001b[0mastype\u001b[0m\u001b[1;33m(\u001b[0m\u001b[0mnp\u001b[0m\u001b[1;33m.\u001b[0m\u001b[0mbool_\u001b[0m\u001b[1;33m)\u001b[0m\u001b[1;33m,\u001b[0m \u001b[0mvalue\u001b[0m\u001b[1;33m)\u001b[0m\u001b[1;33m\u001b[0m\u001b[1;33m\u001b[0m\u001b[0m\n\u001b[0;32m   1084\u001b[0m             \u001b[1;32melse\u001b[0m\u001b[1;33m:\u001b[0m\u001b[1;33m\u001b[0m\u001b[1;33m\u001b[0m\u001b[0m\n\u001b[1;32m-> 1085\u001b[1;33m                 \u001b[0mself\u001b[0m\u001b[1;33m.\u001b[0m\u001b[0m_set_labels\u001b[0m\u001b[1;33m(\u001b[0m\u001b[0mkey\u001b[0m\u001b[1;33m,\u001b[0m \u001b[0mvalue\u001b[0m\u001b[1;33m)\u001b[0m\u001b[1;33m\u001b[0m\u001b[1;33m\u001b[0m\u001b[0m\n\u001b[0m\u001b[0;32m   1086\u001b[0m \u001b[1;33m\u001b[0m\u001b[0m\n\u001b[0;32m   1087\u001b[0m     \u001b[1;32mdef\u001b[0m \u001b[0m_set_labels\u001b[0m\u001b[1;33m(\u001b[0m\u001b[0mself\u001b[0m\u001b[1;33m,\u001b[0m \u001b[0mkey\u001b[0m\u001b[1;33m,\u001b[0m \u001b[0mvalue\u001b[0m\u001b[1;33m)\u001b[0m\u001b[1;33m:\u001b[0m\u001b[1;33m\u001b[0m\u001b[1;33m\u001b[0m\u001b[0m\n",
      "\u001b[1;32m~\\AppData\\Local\\conda\\conda\\envs\\uq\\lib\\site-packages\\pandas\\core\\series.py\u001b[0m in \u001b[0;36m_set_labels\u001b[1;34m(self, key, value)\u001b[0m\n\u001b[0;32m   1093\u001b[0m         \u001b[0mmask\u001b[0m \u001b[1;33m=\u001b[0m \u001b[0mindexer\u001b[0m \u001b[1;33m==\u001b[0m \u001b[1;33m-\u001b[0m\u001b[1;36m1\u001b[0m\u001b[1;33m\u001b[0m\u001b[1;33m\u001b[0m\u001b[0m\n\u001b[0;32m   1094\u001b[0m         \u001b[1;32mif\u001b[0m \u001b[0mmask\u001b[0m\u001b[1;33m.\u001b[0m\u001b[0many\u001b[0m\u001b[1;33m(\u001b[0m\u001b[1;33m)\u001b[0m\u001b[1;33m:\u001b[0m\u001b[1;33m\u001b[0m\u001b[1;33m\u001b[0m\u001b[0m\n\u001b[1;32m-> 1095\u001b[1;33m             \u001b[1;32mraise\u001b[0m \u001b[0mValueError\u001b[0m\u001b[1;33m(\u001b[0m\u001b[1;34m'%s not contained in the index'\u001b[0m \u001b[1;33m%\u001b[0m \u001b[0mstr\u001b[0m\u001b[1;33m(\u001b[0m\u001b[0mkey\u001b[0m\u001b[1;33m[\u001b[0m\u001b[0mmask\u001b[0m\u001b[1;33m]\u001b[0m\u001b[1;33m)\u001b[0m\u001b[1;33m)\u001b[0m\u001b[1;33m\u001b[0m\u001b[1;33m\u001b[0m\u001b[0m\n\u001b[0m\u001b[0;32m   1096\u001b[0m         \u001b[0mself\u001b[0m\u001b[1;33m.\u001b[0m\u001b[0m_set_values\u001b[0m\u001b[1;33m(\u001b[0m\u001b[0mindexer\u001b[0m\u001b[1;33m,\u001b[0m \u001b[0mvalue\u001b[0m\u001b[1;33m)\u001b[0m\u001b[1;33m\u001b[0m\u001b[1;33m\u001b[0m\u001b[0m\n\u001b[0;32m   1097\u001b[0m \u001b[1;33m\u001b[0m\u001b[0m\n",
      "\u001b[1;31mValueError\u001b[0m: ['wage_a' 'exp_a_square'] not contained in the index"
     ]
    }
   ],
   "source": [
    "qoi = mc_uncertainty_propagation(mean, cov_df, 10, save_json=True)"
   ]
  },
  {
   "cell_type": "code",
   "execution_count": null,
   "metadata": {},
   "outputs": [],
   "source": [
    "convergence_plot(qoi, expected_qoi, \"QoI\")"
   ]
  },
  {
   "cell_type": "code",
   "execution_count": null,
   "metadata": {},
   "outputs": [],
   "source": [
    "convergence_plot(qoi, expected_qoi, \"Absolute Deviation QoI\", absolute_deviation=True)"
   ]
  },
  {
   "cell_type": "code",
   "execution_count": null,
   "metadata": {},
   "outputs": [],
   "source": [
    "distplot(qoi)"
   ]
  },
  {
   "cell_type": "code",
   "execution_count": null,
   "metadata": {},
   "outputs": [],
   "source": []
  },
  {
   "cell_type": "code",
   "execution_count": null,
   "metadata": {},
   "outputs": [],
   "source": []
  }
 ],
 "metadata": {
  "kernelspec": {
   "display_name": "Python 3",
   "language": "python",
   "name": "python3"
  },
  "language_info": {
   "codemirror_mode": {
    "name": "ipython",
    "version": 3
   },
   "file_extension": ".py",
   "mimetype": "text/x-python",
   "name": "python",
   "nbconvert_exporter": "python",
   "pygments_lexer": "ipython3",
   "version": "3.6.9"
  }
 },
 "nbformat": 4,
 "nbformat_minor": 4
}
