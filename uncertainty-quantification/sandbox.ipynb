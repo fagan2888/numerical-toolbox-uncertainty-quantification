{
 "cells": [
  {
   "cell_type": "markdown",
   "metadata": {},
   "source": [
    "Replicate Policy Impact in KW94 page 667:\n",
    "\"a 500 dollar per-perod subsidy assuming data set one paramters increases schooling by 1.44 periods\""
   ]
  },
  {
   "cell_type": "code",
   "execution_count": 26,
   "metadata": {},
   "outputs": [],
   "source": [
    "%matplotlib inline\n",
    "import json\n",
    "import numpy as np\n",
    "import pandas as pd\n",
    "import respy as rp\n",
    "\n",
    "from python.mc_uncertainty_propagation import *\n",
    "from python.model_wrapper import model_wrapper_kw_94\n",
    "from python.cov_matrix import create_cov_matrix\n",
    "from python.distplot import distplot\n",
    "from python.convergence_plot import convergence_plot"
   ]
  },
  {
   "cell_type": "code",
   "execution_count": 27,
   "metadata": {},
   "outputs": [],
   "source": [
    "params, options = rp.get_example_model(\"kw_94_three\", with_data=False)"
   ]
  },
  {
   "cell_type": "code",
   "execution_count": 28,
   "metadata": {},
   "outputs": [
    {
     "data": {
      "text/html": [
       "<div>\n",
       "<style scoped>\n",
       "    .dataframe tbody tr th:only-of-type {\n",
       "        vertical-align: middle;\n",
       "    }\n",
       "\n",
       "    .dataframe tbody tr th {\n",
       "        vertical-align: top;\n",
       "    }\n",
       "\n",
       "    .dataframe thead th {\n",
       "        text-align: right;\n",
       "    }\n",
       "</style>\n",
       "<table border=\"1\" class=\"dataframe\">\n",
       "  <thead>\n",
       "    <tr style=\"text-align: right;\">\n",
       "      <th></th>\n",
       "      <th></th>\n",
       "      <th>value</th>\n",
       "      <th>comment</th>\n",
       "    </tr>\n",
       "    <tr>\n",
       "      <th>category</th>\n",
       "      <th>name</th>\n",
       "      <th></th>\n",
       "      <th></th>\n",
       "    </tr>\n",
       "  </thead>\n",
       "  <tbody>\n",
       "    <tr>\n",
       "      <th>delta</th>\n",
       "      <th>delta</th>\n",
       "      <td>0.950</td>\n",
       "      <td>discount factor</td>\n",
       "    </tr>\n",
       "    <tr>\n",
       "      <th rowspan=\"6\" valign=\"top\">wage_a</th>\n",
       "      <th>constant</th>\n",
       "      <td>8.000</td>\n",
       "      <td>log of rental price</td>\n",
       "    </tr>\n",
       "    <tr>\n",
       "      <th>exp_edu</th>\n",
       "      <td>0.070</td>\n",
       "      <td>return to an additional year of schooling</td>\n",
       "    </tr>\n",
       "    <tr>\n",
       "      <th>exp_a</th>\n",
       "      <td>0.055</td>\n",
       "      <td>return to same sector experience</td>\n",
       "    </tr>\n",
       "    <tr>\n",
       "      <th>exp_a_square</th>\n",
       "      <td>0.000</td>\n",
       "      <td>return to same sector, quadratic experience</td>\n",
       "    </tr>\n",
       "    <tr>\n",
       "      <th>exp_b</th>\n",
       "      <td>0.000</td>\n",
       "      <td>return to other sector experience</td>\n",
       "    </tr>\n",
       "    <tr>\n",
       "      <th>exp_b_square</th>\n",
       "      <td>0.000</td>\n",
       "      <td>return to other sector, quadratic experience</td>\n",
       "    </tr>\n",
       "    <tr>\n",
       "      <th rowspan=\"6\" valign=\"top\">wage_b</th>\n",
       "      <th>constant</th>\n",
       "      <td>7.900</td>\n",
       "      <td>log of rental price</td>\n",
       "    </tr>\n",
       "    <tr>\n",
       "      <th>exp_edu</th>\n",
       "      <td>0.070</td>\n",
       "      <td>return to an additional year of schooling</td>\n",
       "    </tr>\n",
       "    <tr>\n",
       "      <th>exp_b</th>\n",
       "      <td>0.060</td>\n",
       "      <td>return to same sector experience</td>\n",
       "    </tr>\n",
       "    <tr>\n",
       "      <th>exp_b_square</th>\n",
       "      <td>0.000</td>\n",
       "      <td>return to same sector, quadratic experience</td>\n",
       "    </tr>\n",
       "    <tr>\n",
       "      <th>exp_a</th>\n",
       "      <td>0.055</td>\n",
       "      <td>return to other sector experience</td>\n",
       "    </tr>\n",
       "    <tr>\n",
       "      <th>exp_a_square</th>\n",
       "      <td>0.000</td>\n",
       "      <td>return to other sector, quadratic experience</td>\n",
       "    </tr>\n",
       "    <tr>\n",
       "      <th rowspan=\"3\" valign=\"top\">nonpec_edu</th>\n",
       "      <th>constant</th>\n",
       "      <td>5000.000</td>\n",
       "      <td>constant reward for choosing education</td>\n",
       "    </tr>\n",
       "    <tr>\n",
       "      <th>at_least_twelve_exp_edu</th>\n",
       "      <td>-5000.000</td>\n",
       "      <td>reward for going to college (tuition, etc.)</td>\n",
       "    </tr>\n",
       "    <tr>\n",
       "      <th>not_edu_last_period</th>\n",
       "      <td>-20000.000</td>\n",
       "      <td>reward for going back to school</td>\n",
       "    </tr>\n",
       "    <tr>\n",
       "      <th>nonpec_home</th>\n",
       "      <th>constant</th>\n",
       "      <td>21500.000</td>\n",
       "      <td>constant reward of non-market alternative</td>\n",
       "    </tr>\n",
       "    <tr>\n",
       "      <th rowspan=\"10\" valign=\"top\">shocks</th>\n",
       "      <th>sd_a</th>\n",
       "      <td>1.000</td>\n",
       "      <td>Element 1,1 of standard-deviation/correlation ...</td>\n",
       "    </tr>\n",
       "    <tr>\n",
       "      <th>sd_b</th>\n",
       "      <td>1.000</td>\n",
       "      <td>Element 2,2 of standard-deviation/correlation ...</td>\n",
       "    </tr>\n",
       "    <tr>\n",
       "      <th>sd_edu</th>\n",
       "      <td>7000.000</td>\n",
       "      <td>Element 3,3 of standard-deviation/correlation ...</td>\n",
       "    </tr>\n",
       "    <tr>\n",
       "      <th>sd_home</th>\n",
       "      <td>8500.000</td>\n",
       "      <td>Element 4,4 of standard-deviation/correlation ...</td>\n",
       "    </tr>\n",
       "    <tr>\n",
       "      <th>corr_b_a</th>\n",
       "      <td>0.500</td>\n",
       "      <td>Element 2,1 of standard-deviation/correlation ...</td>\n",
       "    </tr>\n",
       "    <tr>\n",
       "      <th>corr_edu_a</th>\n",
       "      <td>0.000</td>\n",
       "      <td>Element 3,1 of standard-deviation/correlation ...</td>\n",
       "    </tr>\n",
       "    <tr>\n",
       "      <th>corr_edu_b</th>\n",
       "      <td>0.000</td>\n",
       "      <td>Element 3,2 of standard-deviation/correlation ...</td>\n",
       "    </tr>\n",
       "    <tr>\n",
       "      <th>corr_home_a</th>\n",
       "      <td>0.000</td>\n",
       "      <td>Element 4,1 of standard-deviation/correlation ...</td>\n",
       "    </tr>\n",
       "    <tr>\n",
       "      <th>corr_home_b</th>\n",
       "      <td>0.000</td>\n",
       "      <td>Element 4,2 of standard-deviation/correlation ...</td>\n",
       "    </tr>\n",
       "    <tr>\n",
       "      <th>corr_home_edu</th>\n",
       "      <td>-0.500</td>\n",
       "      <td>Element 4,3 of standard-deviation/correlation ...</td>\n",
       "    </tr>\n",
       "    <tr>\n",
       "      <th rowspan=\"2\" valign=\"top\">meas_error</th>\n",
       "      <th>sd_a</th>\n",
       "      <td>1.000</td>\n",
       "      <td>standard deviation of the measurement error in...</td>\n",
       "    </tr>\n",
       "    <tr>\n",
       "      <th>sd_b</th>\n",
       "      <td>1.000</td>\n",
       "      <td>standard deviation of the measurement error in...</td>\n",
       "    </tr>\n",
       "  </tbody>\n",
       "</table>\n",
       "</div>"
      ],
      "text/plain": [
       "                                         value  \\\n",
       "category    name                                 \n",
       "delta       delta                        0.950   \n",
       "wage_a      constant                     8.000   \n",
       "            exp_edu                      0.070   \n",
       "            exp_a                        0.055   \n",
       "            exp_a_square                 0.000   \n",
       "            exp_b                        0.000   \n",
       "            exp_b_square                 0.000   \n",
       "wage_b      constant                     7.900   \n",
       "            exp_edu                      0.070   \n",
       "            exp_b                        0.060   \n",
       "            exp_b_square                 0.000   \n",
       "            exp_a                        0.055   \n",
       "            exp_a_square                 0.000   \n",
       "nonpec_edu  constant                  5000.000   \n",
       "            at_least_twelve_exp_edu  -5000.000   \n",
       "            not_edu_last_period     -20000.000   \n",
       "nonpec_home constant                 21500.000   \n",
       "shocks      sd_a                         1.000   \n",
       "            sd_b                         1.000   \n",
       "            sd_edu                    7000.000   \n",
       "            sd_home                   8500.000   \n",
       "            corr_b_a                     0.500   \n",
       "            corr_edu_a                   0.000   \n",
       "            corr_edu_b                   0.000   \n",
       "            corr_home_a                  0.000   \n",
       "            corr_home_b                  0.000   \n",
       "            corr_home_edu               -0.500   \n",
       "meas_error  sd_a                         1.000   \n",
       "            sd_b                         1.000   \n",
       "\n",
       "                                                                               comment  \n",
       "category    name                                                                        \n",
       "delta       delta                                                      discount factor  \n",
       "wage_a      constant                                               log of rental price  \n",
       "            exp_edu                          return to an additional year of schooling  \n",
       "            exp_a                                     return to same sector experience  \n",
       "            exp_a_square                   return to same sector, quadratic experience  \n",
       "            exp_b                                    return to other sector experience  \n",
       "            exp_b_square                  return to other sector, quadratic experience  \n",
       "wage_b      constant                                               log of rental price  \n",
       "            exp_edu                          return to an additional year of schooling  \n",
       "            exp_b                                     return to same sector experience  \n",
       "            exp_b_square                   return to same sector, quadratic experience  \n",
       "            exp_a                                    return to other sector experience  \n",
       "            exp_a_square                  return to other sector, quadratic experience  \n",
       "nonpec_edu  constant                            constant reward for choosing education  \n",
       "            at_least_twelve_exp_edu        reward for going to college (tuition, etc.)  \n",
       "            not_edu_last_period                        reward for going back to school  \n",
       "nonpec_home constant                         constant reward of non-market alternative  \n",
       "shocks      sd_a                     Element 1,1 of standard-deviation/correlation ...  \n",
       "            sd_b                     Element 2,2 of standard-deviation/correlation ...  \n",
       "            sd_edu                   Element 3,3 of standard-deviation/correlation ...  \n",
       "            sd_home                  Element 4,4 of standard-deviation/correlation ...  \n",
       "            corr_b_a                 Element 2,1 of standard-deviation/correlation ...  \n",
       "            corr_edu_a               Element 3,1 of standard-deviation/correlation ...  \n",
       "            corr_edu_b               Element 3,2 of standard-deviation/correlation ...  \n",
       "            corr_home_a              Element 4,1 of standard-deviation/correlation ...  \n",
       "            corr_home_b              Element 4,2 of standard-deviation/correlation ...  \n",
       "            corr_home_edu            Element 4,3 of standard-deviation/correlation ...  \n",
       "meas_error  sd_a                     standard deviation of the measurement error in...  \n",
       "            sd_b                     standard deviation of the measurement error in...  "
      ]
     },
     "execution_count": 28,
     "metadata": {},
     "output_type": "execute_result"
    }
   ],
   "source": [
    "# params.loc[('shocks', 'sd_a'), 'comment']\n",
    "params"
   ]
  },
  {
   "cell_type": "code",
   "execution_count": 29,
   "metadata": {},
   "outputs": [],
   "source": [
    "expected_qoi = model_wrapper_kw_94(params[\"value\"].to_numpy())"
   ]
  },
  {
   "cell_type": "code",
   "execution_count": 30,
   "metadata": {},
   "outputs": [
    {
     "data": {
      "text/plain": [
       "0.36824999999999997"
      ]
     },
     "execution_count": 30,
     "metadata": {},
     "output_type": "execute_result"
    }
   ],
   "source": [
    "expected_qoi"
   ]
  },
  {
   "cell_type": "code",
   "execution_count": 31,
   "metadata": {},
   "outputs": [],
   "source": [
    "cov_df = create_cov_matrix()"
   ]
  },
  {
   "cell_type": "code",
   "execution_count": 32,
   "metadata": {},
   "outputs": [],
   "source": [
    "#cov_df"
   ]
  },
  {
   "cell_type": "code",
   "execution_count": 33,
   "metadata": {},
   "outputs": [],
   "source": [
    "# get mean vector from KW94 table4.2 vecor. \n",
    "# Note that respy has 3 params more (delta, sd_a, sd_b) and \n",
    "#that it does not have cholesky-elements but sds and corrs. \n",
    "# it also transforms cross-experiences by (-1)\n",
    "df = pd.read_csv(\"csv/table43_kw_94.csv\", sep=\",\")\n",
    "mean = pd.Series(data=df[\"true\"].values, index=df[\"parameter\"].values)"
   ]
  },
  {
   "cell_type": "code",
   "execution_count": 34,
   "metadata": {},
   "outputs": [],
   "source": [
    "ds3 = transform_params_kw94_respy(mean)"
   ]
  },
  {
   "cell_type": "code",
   "execution_count": 35,
   "metadata": {},
   "outputs": [
    {
     "data": {
      "text/plain": [
       "category     name                   \n",
       "delta        delta                          0.950000\n",
       "wage_a       constant                       8.000000\n",
       "             exp_edu                        0.070000\n",
       "             exp_a                          0.055000\n",
       "             exp_a_square                  -0.000000\n",
       "             exp_b                          0.000000\n",
       "             exp_b_square                  -0.000000\n",
       "wage_b       constant                       7.900000\n",
       "             exp_edu                        0.070000\n",
       "             exp_b                          0.060000\n",
       "             exp_b_square                  -0.000000\n",
       "             exp_a                          0.550000\n",
       "             exp_a_square                  -0.000000\n",
       "nonpec_edu   constant                    5000.000000\n",
       "             at_least_twelve_exp_edu    -5000.000000\n",
       "             not_edu_last_period       -20000.000000\n",
       "nonpec_home  constant                   21500.000000\n",
       "shocks       sd_a                           1.000000\n",
       "             sd_b                           0.999978\n",
       "             sd_edu                      7000.000000\n",
       "             sd_home                     8499.812998\n",
       "             corr_b_a                       0.500011\n",
       "             corr_edu_a                     0.000000\n",
       "             corr_edu_b                     0.000000\n",
       "             corr_home_a                    0.000000\n",
       "             corr_home_b                    0.000000\n",
       "             corr_home_edu                 -0.500011\n",
       "meas_error   sd_a                           1.000000\n",
       "             sd_b                           1.000000\n",
       "dtype: float64"
      ]
     },
     "execution_count": 35,
     "metadata": {},
     "output_type": "execute_result"
    }
   ],
   "source": [
    "ds3"
   ]
  },
  {
   "cell_type": "code",
   "execution_count": 11,
   "metadata": {},
   "outputs": [],
   "source": [
    "draw = np.random.multivariate_normal(mean, cov_df)"
   ]
  },
  {
   "cell_type": "code",
   "execution_count": 12,
   "metadata": {},
   "outputs": [
    {
     "data": {
      "text/plain": [
       "array([ 7.99699073e+00,  7.02392098e-02,  5.49083807e-02, -2.77853843e-06,\n",
       "        2.00343273e-03,  7.05719170e-05,  7.89869223e+00,  7.00683135e-02,\n",
       "        6.01097516e-02,  9.11762687e-07,  5.49862005e-01, -9.17761005e-06,\n",
       "        4.90592301e+03,  4.95051102e+03,  2.00027221e+04,  2.14703404e+04,\n",
       "        1.00153513e+00,  4.90335045e-01,  8.66918931e-01, -1.78346632e-01,\n",
       "        1.50133751e-01,  6.96279914e+03,  7.65990009e-02,  1.06111251e-01,\n",
       "       -4.25103144e+03,  7.24971473e+03])"
      ]
     },
     "execution_count": 12,
     "metadata": {},
     "output_type": "execute_result"
    }
   ],
   "source": [
    "draw"
   ]
  },
  {
   "cell_type": "code",
   "execution_count": 13,
   "metadata": {},
   "outputs": [],
   "source": [
    "kw94_params = pd.Series(data=draw, index=df[\"parameter\"].values)\n"
   ]
  },
  {
   "cell_type": "code",
   "execution_count": 14,
   "metadata": {},
   "outputs": [
    {
     "data": {
      "text/plain": [
       "alpha10    7.996991e+00\n",
       "alpha11    7.023921e-02\n",
       "alpha12    5.490838e-02\n",
       "alpha13   -2.778538e-06\n",
       "alpha14    2.003433e-03\n",
       "alpha15    7.057192e-05\n",
       "alpha20    7.898692e+00\n",
       "alpha21    7.006831e-02\n",
       "alpha22    6.010975e-02\n",
       "alpha23    9.117627e-07\n",
       "alpha24    5.498620e-01\n",
       "alpha25   -9.177610e-06\n",
       "beta0      4.905923e+03\n",
       "beta1      4.950511e+03\n",
       "beta2      2.000272e+04\n",
       "gamma0     2.147034e+04\n",
       "a11        1.001535e+00\n",
       "a21        4.903350e-01\n",
       "a22        8.669189e-01\n",
       "a31       -1.783466e-01\n",
       "a32        1.501338e-01\n",
       "a33        6.962799e+03\n",
       "a41        7.659900e-02\n",
       "a42        1.061113e-01\n",
       "a43       -4.251031e+03\n",
       "a44        7.249715e+03\n",
       "dtype: float64"
      ]
     },
     "execution_count": 14,
     "metadata": {},
     "output_type": "execute_result"
    }
   ],
   "source": [
    "kw94_params"
   ]
  },
  {
   "cell_type": "code",
   "execution_count": 15,
   "metadata": {},
   "outputs": [],
   "source": [
    "respy_params = transform_params_kw94_respy(kw94_params)"
   ]
  },
  {
   "cell_type": "code",
   "execution_count": 16,
   "metadata": {},
   "outputs": [
    {
     "data": {
      "text/plain": [
       "category     name                   \n",
       "delta        delta                      9.500000e-01\n",
       "wage_a       constant                   7.996991e+00\n",
       "             exp_edu                    7.023921e-02\n",
       "             exp_a                      5.490838e-02\n",
       "             exp_a_square               2.778538e-06\n",
       "             exp_b                      2.003433e-03\n",
       "             exp_b_square              -7.057192e-05\n",
       "wage_b       constant                   7.898692e+00\n",
       "             exp_edu                    7.006831e-02\n",
       "             exp_b                      6.010975e-02\n",
       "             exp_b_square              -9.117627e-07\n",
       "             exp_a                      5.498620e-01\n",
       "             exp_a_square               9.177610e-06\n",
       "nonpec_edu   constant                   4.905923e+03\n",
       "             at_least_twelve_exp_edu   -4.950511e+03\n",
       "             not_edu_last_period       -2.000272e+04\n",
       "nonpec_home  constant                   2.147034e+04\n",
       "shocks       sd_a                       1.001535e+00\n",
       "             sd_b                       9.959804e-01\n",
       "             sd_edu                     6.962799e+03\n",
       "             sd_home                    8.404144e+03\n",
       "             corr_b_a                   4.923140e-01\n",
       "             corr_edu_a                -2.561421e-05\n",
       "             corr_edu_b                 6.157945e-06\n",
       "             corr_home_a                9.114433e-06\n",
       "             corr_home_b                1.547711e-05\n",
       "             corr_home_edu             -5.058256e-01\n",
       "meas_error   sd_a                       1.000000e+00\n",
       "             sd_b                       1.000000e+00\n",
       "dtype: float64"
      ]
     },
     "execution_count": 16,
     "metadata": {},
     "output_type": "execute_result"
    }
   ],
   "source": [
    "respy_params"
   ]
  },
  {
   "cell_type": "code",
   "execution_count": 17,
   "metadata": {},
   "outputs": [],
   "source": [
    "qoi_debug = model_wrapper_kw_94(respy_params)"
   ]
  },
  {
   "cell_type": "code",
   "execution_count": 18,
   "metadata": {},
   "outputs": [
    {
     "data": {
      "text/plain": [
       "0.0"
      ]
     },
     "execution_count": 18,
     "metadata": {},
     "output_type": "execute_result"
    }
   ],
   "source": [
    "qoi_debug"
   ]
  },
  {
   "cell_type": "code",
   "execution_count": null,
   "metadata": {},
   "outputs": [],
   "source": []
  },
  {
   "cell_type": "code",
   "execution_count": 19,
   "metadata": {},
   "outputs": [],
   "source": [
    "qoi = mc_uncertainty_propagation(mean, cov_df, 10, save_json=True)"
   ]
  },
  {
   "cell_type": "code",
   "execution_count": null,
   "metadata": {},
   "outputs": [],
   "source": []
  },
  {
   "cell_type": "code",
   "execution_count": 20,
   "metadata": {},
   "outputs": [],
   "source": [
    "#qoi_list"
   ]
  },
  {
   "cell_type": "code",
   "execution_count": 21,
   "metadata": {},
   "outputs": [],
   "source": [
    "#with open(\"json/qoi.json\", \"r\") as read_file:\n",
    "#    qoi = json.load(read_file)"
   ]
  },
  {
   "cell_type": "code",
   "execution_count": 22,
   "metadata": {},
   "outputs": [
    {
     "data": {
      "text/plain": [
       "10"
      ]
     },
     "execution_count": 22,
     "metadata": {},
     "output_type": "execute_result"
    }
   ],
   "source": [
    "len(qoi)"
   ]
  },
  {
   "cell_type": "code",
   "execution_count": 23,
   "metadata": {},
   "outputs": [
    {
     "data": {
      "text/plain": [
       "<module 'matplotlib.pyplot' from 'C:\\\\Users\\\\Tobias\\\\AppData\\\\Local\\\\conda\\\\conda\\\\envs\\\\uq\\\\lib\\\\site-packages\\\\matplotlib\\\\pyplot.py'>"
      ]
     },
     "execution_count": 23,
     "metadata": {},
     "output_type": "execute_result"
    },
    {
     "data": {
      "image/png": "[encoded data removed]",
      "text/plain": [
       "<Figure size 864x648 with 1 Axes>"
      ]
     },
     "metadata": {
      "needs_background": "light"
     },
     "output_type": "display_data"
    }
   ],
   "source": [
    "convergence_plot(qoi, expected_qoi, \"QoI\")"
   ]
  },
  {
   "cell_type": "code",
   "execution_count": 24,
   "metadata": {},
   "outputs": [
    {
     "data": {
      "text/plain": [
       "<module 'matplotlib.pyplot' from 'C:\\\\Users\\\\Tobias\\\\AppData\\\\Local\\\\conda\\\\conda\\\\envs\\\\uq\\\\lib\\\\site-packages\\\\matplotlib\\\\pyplot.py'>"
      ]
     },
     "execution_count": 24,
     "metadata": {},
     "output_type": "execute_result"
    },
    {
     "data": {
      "image/png": "[encoded data removed]",
      "text/plain": [
       "<Figure size 864x648 with 1 Axes>"
      ]
     },
     "metadata": {
      "needs_background": "light"
     },
     "output_type": "display_data"
    }
   ],
   "source": [
    "convergence_plot(qoi, expected_qoi, \"Absolute Deviation QoI\", absolute_deviation=True)"
   ]
  },
  {
   "cell_type": "code",
   "execution_count": 25,
   "metadata": {},
   "outputs": [
    {
     "name": "stderr",
     "output_type": "stream",
     "text": [
      "C:\\Users\\Tobias\\AppData\\Local\\conda\\conda\\envs\\uq\\lib\\site-packages\\statsmodels\\nonparametric\\kde.py:487: RuntimeWarning: invalid value encountered in true_divide\n",
      "  binned = fast_linbin(X, a, b, gridsize) / (delta * nobs)\n",
      "C:\\Users\\Tobias\\AppData\\Local\\conda\\conda\\envs\\uq\\lib\\site-packages\\statsmodels\\nonparametric\\kdetools.py:34: RuntimeWarning: invalid value encountered in double_scalars\n",
      "  FAC1 = 2*(np.pi*bw/RANGE)**2\n"
     ]
    },
    {
     "data": {
      "text/plain": [
       "<matplotlib.axes._subplots.AxesSubplot at 0x15719769a58>"
      ]
     },
     "execution_count": 25,
     "metadata": {},
     "output_type": "execute_result"
    },
    {
     "data": {
      "image/png": "[encoded data removed]",
      "text/plain": [
       "<Figure size 864x648 with 1 Axes>"
      ]
     },
     "metadata": {
      "needs_background": "light"
     },
     "output_type": "display_data"
    }
   ],
   "source": [
    "distplot(qoi)"
   ]
  },
  {
   "cell_type": "code",
   "execution_count": null,
   "metadata": {},
   "outputs": [],
   "source": []
  },
  {
   "cell_type": "code",
   "execution_count": null,
   "metadata": {},
   "outputs": [],
   "source": []
  }
 ],
 "metadata": {
  "kernelspec": {
   "display_name": "Python 3",
   "language": "python",
   "name": "python3"
  },
  "language_info": {
   "codemirror_mode": {
    "name": "ipython",
    "version": 3
   },
   "file_extension": ".py",
   "mimetype": "text/x-python",
   "name": "python",
   "nbconvert_exporter": "python",
   "pygments_lexer": "ipython3",
   "version": "3.6.9"
  }
 },
 "nbformat": 4,
 "nbformat_minor": 4
}
